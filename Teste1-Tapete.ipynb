{
 "cells": [
  {
   "cell_type": "code",
   "execution_count": 107,
   "metadata": {},
   "outputs": [],
   "source": [
    "import pandas as pd \n",
    "import numpy as np \n",
    "import matplotlib.pyplot as plt\n",
    "from scipy.stats import linregress\n",
    "import seaborn as sns\n",
    "import scipy.signal as sp\n",
    "from scipy.interpolate import griddata"
   ]
  },
  {
   "cell_type": "code",
   "execution_count": 108,
   "metadata": {},
   "outputs": [],
   "source": [
    "#Tapete Vazio:\n",
    "vazio=open(\"Teste1/tapete_vazio.txt\",'r')\n",
    "vazio=pd.read_csv(vazio,skiprows=65,names=[\"Timestamp\",\"CH1\",\"CH2\",\"CH3\",\"CH4\",\"CH5\",\"CH6\",\"CH7\",\"CH8\",\"PEAKS1\",\"PEAKS2\",\"PEAKS4\",\"PEAKS5\",\"PEAKS6\",\"PEAKS7\",\"PEAKS8\"], sep=\"\\t\",decimal=',')\n",
    "importante= open(\"DadosImportantes.txt\",\"r\")\n",
    "DadosVazioKs=pd.read_csv(importante,names=[\"Sen1\",\"Sen2\",\"Sen3\",\"Sen5\",\"Sen6\",\"Sen7\",\"Sen8\",\"K1\",\"K2\",\"K3\",\"K5\",\"K6\",\"K7\",\"K8\"],sep=\"\\t\")"
   ]
  },
  {
   "cell_type": "code",
   "execution_count": 109,
   "metadata": {},
   "outputs": [],
   "source": [
    "vazio[\"PEAKS3\"]=vazio[\"PEAKS4\"]\n",
    "vazio=vazio.drop([\"PEAKS4\"],axis=1)\n"
   ]
  },
  {
   "cell_type": "code",
   "execution_count": 110,
   "metadata": {},
   "outputs": [],
   "source": [
    "picos_vazios=vazio.loc[:,[\"PEAKS1\",'PEAKS2','PEAKS3','PEAKS5',\"PEAKS6\",'PEAKS7','PEAKS8']]\n",
    "medias=[]\n",
    "for i in range (0, 7):\n",
    "    medias.append(picos_vazios.mean()[i])\n"
   ]
  },
  {
   "cell_type": "code",
   "execution_count": 111,
   "metadata": {},
   "outputs": [],
   "source": [
    "#Criando a malha do tapete \n",
    "\n",
    "y= np.linspace(0,282,282)    \n",
    "x=np.linspace(0,420,420)\n",
    "\n",
    "#forças\n",
    "tapetepos=np.zeros((len(x),len(y)))\n",
    "\n",
    "xx,yy= np.meshgrid(x,y)"
   ]
  },
  {
   "cell_type": "code",
   "execution_count": 112,
   "metadata": {},
   "outputs": [],
   "source": [
    "\n",
    "sensor1=1\n",
    "sensor2=2\n",
    "sensor3=3\n",
    "sensor4=4\n",
    "sensor5=5\n",
    "sensor6=6\n",
    "sensor7=7\n",
    "sensor8=8\n",
    "\n",
    "\n",
    "#TAPETEPOS[X][Y]!!\n",
    "tapetepos[int(2*len(x)/3)-1][int(len(y)/2)-1]=sensor1\n",
    "tapetepos[int(len(x)/3)-1][int(len(y)/2)-1]=sensor2\n",
    "\n",
    "tapetepos[int(3*len(x)/4)-1][int(2*len(y)/3)-1]=sensor3\n",
    "tapetepos[int(len(x)/4)-1][2*int(len(y)/3)-1]=sensor5\n",
    "\n",
    "tapetepos[int(len(x)/2)-1][int(len(y)/3)-1]=sensor6\n",
    "tapetepos[int(len(x)/4)-1][int(len(y)/3)-1]=sensor7\n",
    "tapetepos[int(3*len(x)/4)-1][int(len(y)/3)-1]=sensor8\n",
    "\n"
   ]
  },
  {
   "attachments": {},
   "cell_type": "markdown",
   "metadata": {},
   "source": [
    "# Cimento: 4 Posições\n"
   ]
  },
  {
   "cell_type": "code",
   "execution_count": 113,
   "metadata": {},
   "outputs": [],
   "source": [
    "cimentopos1=pd.read_csv(open(\"Teste1/Cimento/N0.2023.05.11.15.55.14(Pos1).txt\",\"r\"),skiprows=65,names=[\"Timestamp\",\"CH1\",\"CH2\",\"CH3\",\"CH4\",\"CH5\",\"CH6\",\"CH7\",\"CH8\",\"PEAKS1\",\"PEAKS2\",\"PEAKS3\",\"PEAKS5\",\"PEAKS6\",\"PEAKS7\",\"PEAKS8\"], sep=\"\\t\", decimal=\",\")\n",
    "cimentopos2=pd.read_csv(open(\"Teste1/Cimento/N0.2023.05.11.15.56.01(Pos2).txt\",\"r\"),skiprows=65,names=[\"Timestamp\",\"CH1\",\"CH2\",\"CH3\",\"CH4\",\"CH5\",\"CH6\",\"CH7\",\"CH8\",\"PEAKS1\",\"PEAKS2\",\"PEAKS3\",\"PEAKS5\",\"PEAKS6\",\"PEAKS7\",\"PEAKS8\"], sep=\"\\t\", decimal=\",\")\n",
    "cimentopos3=pd.read_csv(open(\"Teste1/Cimento/N0.2023.05.11.15.58.04(Pos3).txt\",\"r\"),skiprows=65,names=[\"Timestamp\",\"CH1\",\"CH2\",\"CH3\",\"CH4\",\"CH5\",\"CH6\",\"CH7\",\"CH8\",\"PEAKS1\",\"PEAKS2\",\"PEAKS3\",\"PEAKS5\",\"PEAKS6\",\"PEAKS7\",\"PEAKS8\"], sep=\"\\t\", decimal=\",\")\n",
    "cimentopos4=pd.read_csv(open(\"Teste1/Cimento/N0.2023.05.11.15.58.47(Pos4).txt\",\"r\"),skiprows=65,names=[\"Timestamp\",\"CH1\",\"CH2\",\"CH3\",\"CH4\",\"CH5\",\"CH6\",\"CH7\",\"CH8\",\"PEAKS1\",\"PEAKS2\",\"PEAKS3\",\"PEAKS5\",\"PEAKS6\",\"PEAKS7\",\"PEAKS8\"], sep=\"\\t\", decimal=\",\")\n",
    "\n",
    "\n",
    "\n"
   ]
  },
  {
   "attachments": {},
   "cell_type": "markdown",
   "metadata": {},
   "source": [
    "## DELTA LAMBDA DA POSIÇÃO 1 "
   ]
  },
  {
   "cell_type": "code",
   "execution_count": 114,
   "metadata": {},
   "outputs": [
    {
     "data": {
      "text/plain": [
       "array([-1.31375606e-03, -9.74886345e-05, -1.77336424e-03,  3.37475137e-05,\n",
       "        9.65767296e-04,  1.24139272e-03,  4.03811458e-03])"
      ]
     },
     "execution_count": 114,
     "metadata": {},
     "output_type": "execute_result"
    }
   ],
   "source": [
    "deltalambda1=np.zeros(7)\n",
    "\n",
    "deltalambda1[0]= vazio['PEAKS1'].mean() - cimentopos1['PEAKS1'].mean()\n",
    "deltalambda1[1]= vazio['PEAKS2'].mean() - cimentopos1['PEAKS2'].mean()\n",
    "deltalambda1[2]= vazio['PEAKS3'].mean() - cimentopos1['PEAKS3'].mean()\n",
    "\n",
    "deltalambda1[3]= vazio['PEAKS5'].mean() - cimentopos1['PEAKS5'].mean()\n",
    "deltalambda1[4]= vazio['PEAKS6'].mean() - cimentopos1['PEAKS6'].mean()\n",
    "deltalambda1[5]= vazio['PEAKS7'].mean() - cimentopos1['PEAKS7'].mean()\n",
    "deltalambda1[6]= vazio['PEAKS8'].mean() - cimentopos1['PEAKS8'].mean()\n",
    "\n",
    "deltalambda1\n"
   ]
  },
  {
   "attachments": {},
   "cell_type": "markdown",
   "metadata": {},
   "source": [
    "## DELTA LAMBDA DA POSIÇÃO 2\n"
   ]
  },
  {
   "cell_type": "code",
   "execution_count": 115,
   "metadata": {},
   "outputs": [
    {
     "data": {
      "text/plain": [
       "array([-0.00475469, -0.00028859, -0.00052266,  0.00015232, -0.03186296,\n",
       "        0.00213507, -0.00310378])"
      ]
     },
     "execution_count": 115,
     "metadata": {},
     "output_type": "execute_result"
    }
   ],
   "source": [
    "deltalambda2=np.zeros(7)\n",
    "\n",
    "deltalambda2[0]= vazio['PEAKS1'].mean() - cimentopos2['PEAKS1'].mean()\n",
    "deltalambda2[1]= vazio['PEAKS2'].mean() - cimentopos2['PEAKS2'].mean()\n",
    "deltalambda2[2]= vazio['PEAKS3'].mean() - cimentopos2['PEAKS3'].mean()\n",
    "\n",
    "deltalambda2[3]= vazio['PEAKS5'].mean() - cimentopos2['PEAKS5'].mean()\n",
    "deltalambda2[4]= vazio['PEAKS6'].mean() - cimentopos2['PEAKS6'].mean()\n",
    "deltalambda2[5]= vazio['PEAKS7'].mean() - cimentopos2['PEAKS7'].mean()\n",
    "deltalambda2[6]= vazio['PEAKS8'].mean() - cimentopos2['PEAKS8'].mean()\n",
    "\n",
    "deltalambda2"
   ]
  },
  {
   "attachments": {},
   "cell_type": "markdown",
   "metadata": {},
   "source": [
    "## DELTA LAMBDA DA POSIÇÃO 3\n"
   ]
  },
  {
   "cell_type": "code",
   "execution_count": 116,
   "metadata": {},
   "outputs": [
    {
     "data": {
      "text/plain": [
       "array([-6.63585244e-03, -2.47785780e-03,  6.73969316e-06, -1.19046386e-03,\n",
       "        2.02319898e-04, -8.36481879e-04,  3.06053696e-03])"
      ]
     },
     "execution_count": 116,
     "metadata": {},
     "output_type": "execute_result"
    }
   ],
   "source": [
    "deltalambda3=np.zeros(7)\n",
    "\n",
    "deltalambda3[0]= vazio['PEAKS1'].mean() - cimentopos3['PEAKS1'].mean()\n",
    "deltalambda3[1]= vazio['PEAKS2'].mean() - cimentopos3['PEAKS2'].mean()\n",
    "deltalambda3[2]= vazio['PEAKS3'].mean() - cimentopos3['PEAKS3'].mean()\n",
    "\n",
    "deltalambda3[3]= vazio['PEAKS5'].mean() - cimentopos3['PEAKS5'].mean()\n",
    "deltalambda3[4]= vazio['PEAKS6'].mean() - cimentopos3['PEAKS6'].mean()\n",
    "deltalambda3[5]= vazio['PEAKS7'].mean() - cimentopos3['PEAKS7'].mean()\n",
    "deltalambda3[6]= vazio['PEAKS8'].mean() - cimentopos3['PEAKS8'].mean()\n",
    "\n",
    "deltalambda3"
   ]
  },
  {
   "attachments": {},
   "cell_type": "markdown",
   "metadata": {},
   "source": [
    "## DELTA LAMBDA DA POSIÇÃO 4"
   ]
  },
  {
   "cell_type": "code",
   "execution_count": 117,
   "metadata": {},
   "outputs": [
    {
     "data": {
      "text/plain": [
       "array([-0.00292399,  0.00530865, -0.00344069, -0.00084899, -0.00106978,\n",
       "       -0.05625242,  0.00275723])"
      ]
     },
     "execution_count": 117,
     "metadata": {},
     "output_type": "execute_result"
    }
   ],
   "source": [
    "deltalambda4=np.zeros(7)\n",
    "\n",
    "deltalambda4[0]= vazio['PEAKS1'].mean() - cimentopos4['PEAKS1'].mean()\n",
    "deltalambda4[1]= vazio['PEAKS2'].mean() - cimentopos4['PEAKS2'].mean()\n",
    "deltalambda4[2]= vazio['PEAKS3'].mean() - cimentopos4['PEAKS3'].mean()\n",
    "\n",
    "deltalambda4[3]= vazio['PEAKS5'].mean() - cimentopos4['PEAKS5'].mean()\n",
    "deltalambda4[4]= vazio['PEAKS6'].mean() - cimentopos4['PEAKS6'].mean()\n",
    "deltalambda4[5]= vazio['PEAKS7'].mean() - cimentopos4['PEAKS7'].mean()\n",
    "deltalambda4[6]= vazio['PEAKS8'].mean() - cimentopos4['PEAKS8'].mean()\n",
    "\n",
    "deltalambda4"
   ]
  },
  {
   "attachments": {},
   "cell_type": "markdown",
   "metadata": {},
   "source": [
    "# Heatmap POS 1 "
   ]
  },
  {
   "cell_type": "code",
   "execution_count": 118,
   "metadata": {},
   "outputs": [],
   "source": [
    "loc1=np.zeros((7,2))\n",
    "F1=np.zeros(7)"
   ]
  },
  {
   "cell_type": "code",
   "execution_count": 119,
   "metadata": {},
   "outputs": [],
   "source": [
    "tapetepos1=tapetepos.copy()\n",
    "for i in range (0,tapetepos.shape[0]):\n",
    "    for j in range (0,tapetepos.shape[1]):\n",
    "        if tapetepos[i][j]==1:\n",
    "            tapetepos1[i][j]=(deltalambda1[0])*DadosVazioKs[\"K1\"]#N\n",
    "            loc1[0]=([i,j-1])\n",
    "            F1[0]=tapetepos[i][j]\n",
    "            \n",
    "        if tapetepos[i][j]==2:\n",
    "            tapetepos1[i][j]=(deltalambda1[1])*DadosVazioKs[\"K2\"] #N\n",
    "            loc1[1]=([i,j])\n",
    "            F1[1]=tapetepos[i][j]\n",
    "\n",
    "        if tapetepos[i][j]==3:\n",
    "            tapetepos1[i][j]=(deltalambda1[2])*DadosVazioKs[\"K3\"] #N\n",
    "            loc1[2]=([i,j-1])\n",
    "            F1[2]=tapetepos[i][j]\n",
    "\n",
    "        if tapetepos[i][j]==5:\n",
    "            tapetepos1[i][j]=((deltalambda1[3])*DadosVazioKs[\"K5\"]) #N\n",
    "            loc1[3]=([i,j-1])\n",
    "            F1[3]=tapetepos[i][j]\n",
    "\n",
    "        if tapetepos[i][j]==6:  \n",
    "            tapetepos1[i][j]=((deltalambda1[4])*DadosVazioKs[\"K6\"]) #N\n",
    "            loc1[4]=([i,j-1])\n",
    "            F1[4]=tapetepos[i][j]\n",
    "            \n",
    "        if tapetepos[i][j]==7:\n",
    "            tapetepos1[i][j]=((deltalambda1[5])*DadosVazioKs[\"K7\"]) #N\n",
    "            loc1[5]=([i,j-1])\n",
    "            F1[5]=tapetepos[i][j]\n",
    "            \n",
    "        if tapetepos[i][j]==8:\n",
    "            tapetepos1[i][j]=(deltalambda1[6])*DadosVazioKs[\"K8\"] #N\n",
    "            loc1[6]=([i,j-1])\n",
    "            F1[6]=tapetepos[i][j]\n",
    "       "
   ]
  },
  {
   "cell_type": "code",
   "execution_count": 120,
   "metadata": {},
   "outputs": [
    {
     "data": {
      "text/plain": [
       "array([[279., 139.],\n",
       "       [139., 140.],\n",
       "       [314., 186.],\n",
       "       [104., 186.],\n",
       "       [209.,  92.],\n",
       "       [104.,  92.],\n",
       "       [314.,  92.]])"
      ]
     },
     "execution_count": 120,
     "metadata": {},
     "output_type": "execute_result"
    }
   ],
   "source": [
    "loc1"
   ]
  },
  {
   "cell_type": "code",
   "execution_count": 121,
   "metadata": {},
   "outputs": [],
   "source": [
    "interp_forcas1= griddata(loc1,F1,(xx,yy))"
   ]
  },
  {
   "cell_type": "code",
   "execution_count": 122,
   "metadata": {},
   "outputs": [
    {
     "data": {
      "text/plain": [
       "<matplotlib.colorbar.Colorbar at 0x263f1393590>"
      ]
     },
     "execution_count": 122,
     "metadata": {},
     "output_type": "execute_result"
    },
    {
     "data": {
      "image/png": "[encoded data removed]",
      "text/plain": [
       "<Figure size 640x480 with 2 Axes>"
      ]
     },
     "metadata": {},
     "output_type": "display_data"
    }
   ],
   "source": [
    "fig, ax = plt.subplots()\n",
    "\n",
    "im=plt.imshow(interp_forcas1, cmap=\"hot\",interpolation='hanning')\n",
    "\n",
    "plt.colorbar(im)"
   ]
  },
  {
   "attachments": {},
   "cell_type": "markdown",
   "metadata": {},
   "source": [
    "# Heatmap POS 2 \n"
   ]
  },
  {
   "cell_type": "code",
   "execution_count": 123,
   "metadata": {},
   "outputs": [],
   "source": [
    "loc2=loc1\n",
    "F2=np.zeros(7)"
   ]
  },
  {
   "cell_type": "code",
   "execution_count": 124,
   "metadata": {},
   "outputs": [],
   "source": [
    "tapetepos2= tapetepos.copy()\n",
    "for i in range (0,tapetepos.shape[0]):\n",
    "    for j in range (0,tapetepos.shape[1]):\n",
    "        if tapetepos[i][j]==1:\n",
    "            tapetepos2[i][j]=(deltalambda2[0])*DadosVazioKs[\"K1\"]#N\n",
    "            loc2[0]=([i,j-1])\n",
    "            F2[0]=tapetepos[i][j]\n",
    "            \n",
    "        if tapetepos[i][j]==2:\n",
    "            tapetepos2[i][j]=(deltalambda2[1])*DadosVazioKs[\"K2\"] #N\n",
    "            loc2[1]=([i,j])\n",
    "            F2[1]=tapetepos[i][j]\n",
    "\n",
    "        if tapetepos[i][j]==3:\n",
    "            tapetepos2[i][j]=(deltalambda2[2])*DadosVazioKs[\"K3\"] #N\n",
    "            loc2[2]=([i,j-1])\n",
    "            F2[2]=tapetepos[i][j]\n",
    "\n",
    "        if tapetepos[i][j]==5:\n",
    "            tapetepos2[i][j]=((deltalambda2[3])*DadosVazioKs[\"K5\"]) #N\n",
    "            loc2[3]=([i,j-1])\n",
    "            F2[3]=tapetepos[i][j]\n",
    "\n",
    "        if tapetepos[i][j]==6:  \n",
    "            tapetepos2[i][j]=((deltalambda2[4])*DadosVazioKs[\"K6\"]) #N\n",
    "            loc2[4]=([i,j-1])\n",
    "            F2[4]=tapetepos[i][j]\n",
    "            \n",
    "        if tapetepos[i][j]==7:\n",
    "            tapetepos2[i][j]=((deltalambda2[5])*DadosVazioKs[\"K7\"]) #N\n",
    "            loc2[5]=([i,j-1])\n",
    "            F2[5]=tapetepos[i][j]\n",
    "            \n",
    "        if tapetepos[i][j]==8:\n",
    "            tapetepos2[i][j]=(deltalambda2[6])*DadosVazioKs[\"K8\"] #N\n",
    "            loc2[6]=([i,j-1])\n",
    "            F2[6]=tapetepos[i][j]"
   ]
  },
  {
   "cell_type": "code",
   "execution_count": 125,
   "metadata": {},
   "outputs": [
    {
     "data": {
      "text/plain": [
       "array([[279., 139.],\n",
       "       [139., 140.],\n",
       "       [314., 186.],\n",
       "       [104., 186.],\n",
       "       [209.,  92.],\n",
       "       [104.,  92.],\n",
       "       [314.,  92.]])"
      ]
     },
     "execution_count": 125,
     "metadata": {},
     "output_type": "execute_result"
    }
   ],
   "source": [
    "loc2"
   ]
  },
  {
   "cell_type": "code",
   "execution_count": 126,
   "metadata": {},
   "outputs": [],
   "source": [
    "interp_forcas2= griddata(loc2,F2,(xx,yy))"
   ]
  },
  {
   "cell_type": "code",
   "execution_count": 127,
   "metadata": {},
   "outputs": [
    {
     "data": {
      "text/plain": [
       "<matplotlib.colorbar.Colorbar at 0x263f12cb3d0>"
      ]
     },
     "execution_count": 127,
     "metadata": {},
     "output_type": "execute_result"
    },
    {
     "data": {
      "image/png": "[encoded data removed]",
      "text/plain": [
       "<Figure size 640x480 with 2 Axes>"
      ]
     },
     "metadata": {},
     "output_type": "display_data"
    }
   ],
   "source": [
    "ig, ax = plt.subplots()\n",
    "\n",
    "im=plt.imshow(interp_forcas2, cmap=\"hot\",interpolation='hanning')\n",
    "\n",
    "plt.colorbar(im)"
   ]
  },
  {
   "attachments": {},
   "cell_type": "markdown",
   "metadata": {},
   "source": [
    "# Heatmap POS 3 "
   ]
  },
  {
   "cell_type": "code",
   "execution_count": 131,
   "metadata": {},
   "outputs": [],
   "source": [
    "loc3=loc1\n",
    "F3=np.zeros(7)"
   ]
  },
  {
   "cell_type": "code",
   "execution_count": 132,
   "metadata": {},
   "outputs": [],
   "source": [
    "tapetepos3= tapetepos.copy()\n",
    "for i in range (0,tapetepos.shape[0]):\n",
    "    for j in range (0,tapetepos.shape[1]):\n",
    "        if tapetepos[i][j]==1:\n",
    "            tapetepos3[i][j]=(deltalambda3[0])*DadosVazioKs[\"K1\"]#N\n",
    "            loc3[0]=([i,j-1])\n",
    "            F3[0]=tapetepos[i][j]\n",
    "            \n",
    "        if tapetepos[i][j]==2:\n",
    "            tapetepos3[i][j]=(deltalambda3[1])*DadosVazioKs[\"K2\"] #N\n",
    "            loc3[1]=([i,j])\n",
    "            F3[1]=tapetepos[i][j]\n",
    "\n",
    "        if tapetepos[i][j]==3:\n",
    "            tapetepos3[i][j]=(deltalambda3[2])*DadosVazioKs[\"K3\"] #N\n",
    "            loc3[2]=([i,j-1])\n",
    "            F3[2]=tapetepos[i][j]\n",
    "\n",
    "        if tapetepos[i][j]==5:\n",
    "            tapetepos3[i][j]=((deltalambda3[3])*DadosVazioKs[\"K5\"]) #N\n",
    "            loc3[3]=([i,j-1])\n",
    "            F3[3]=tapetepos[i][j]\n",
    "\n",
    "        if tapetepos[i][j]==6:  \n",
    "            tapetepos3[i][j]=((deltalambda3[4])*DadosVazioKs[\"K6\"]) #N\n",
    "            loc3[4]=([i,j-1])\n",
    "            F3[4]=tapetepos[i][j]\n",
    "            \n",
    "        if tapetepos[i][j]==7:\n",
    "            tapetepos3[i][j]=((deltalambda3[5])*DadosVazioKs[\"K7\"]) #N\n",
    "            loc3[5]=([i,j-1])\n",
    "            F3[5]=tapetepos[i][j]\n",
    "            \n",
    "        if tapetepos[i][j]==8:\n",
    "            tapetepos3[i][j]=(deltalambda3[6])*DadosVazioKs[\"K8\"] #N\n",
    "            loc3[6]=([i,j-1])\n",
    "            F3[6]=tapetepos[i][j]"
   ]
  },
  {
   "cell_type": "code",
   "execution_count": 133,
   "metadata": {},
   "outputs": [],
   "source": [
    "interp_forcas3= griddata(loc3,F3,(xx,yy))"
   ]
  },
  {
   "cell_type": "code",
   "execution_count": 134,
   "metadata": {},
   "outputs": [
    {
     "data": {
      "text/plain": [
       "<matplotlib.colorbar.Colorbar at 0x263f179e490>"
      ]
     },
     "execution_count": 134,
     "metadata": {},
     "output_type": "execute_result"
    },
    {
     "data": {
      "image/png": "[encoded data removed]",
      "text/plain": [
       "<Figure size 640x480 with 2 Axes>"
      ]
     },
     "metadata": {},
     "output_type": "display_data"
    }
   ],
   "source": [
    "ig, ax = plt.subplots()\n",
    "\n",
    "im=plt.imshow(interp_forcas3, cmap=\"hot\",interpolation='hanning')\n",
    "\n",
    "plt.colorbar(im)"
   ]
  },
  {
   "attachments": {},
   "cell_type": "markdown",
   "metadata": {},
   "source": [
    "# Heatmap POS 4"
   ]
  },
  {
   "cell_type": "code",
   "execution_count": 137,
   "metadata": {},
   "outputs": [],
   "source": [
    "loc4=loc1\n",
    "F4=np.zeros(7)"
   ]
  },
  {
   "cell_type": "code",
   "execution_count": 138,
   "metadata": {},
   "outputs": [],
   "source": [
    "tapetepos4= tapetepos.copy()\n",
    "for i in range (0,tapetepos.shape[0]):\n",
    "    for j in range (0,tapetepos.shape[1]):\n",
    "        if tapetepos[i][j]==1:\n",
    "            tapetepos4[i][j]=(deltalambda4[0])*DadosVazioKs[\"K1\"]#N\n",
    "            loc4[0]=([i,j-1])\n",
    "            F4[0]=tapetepos[i][j]\n",
    "            \n",
    "        if tapetepos[i][j]==2:\n",
    "            tapetepos4[i][j]=(deltalambda4[1])*DadosVazioKs[\"K2\"] #N\n",
    "            loc4[1]=([i,j])\n",
    "            F4[1]=tapetepos[i][j]\n",
    "\n",
    "        if tapetepos[i][j]==3:\n",
    "            tapetepos4[i][j]=(deltalambda4[2])*DadosVazioKs[\"K3\"] #N\n",
    "            loc4[2]=([i,j-1])\n",
    "            F4[2]=tapetepos[i][j]\n",
    "\n",
    "        if tapetepos[i][j]==5:\n",
    "            tapetepos4[i][j]=((deltalambda4[3])*DadosVazioKs[\"K5\"]) #N\n",
    "            loc4[3]=([i,j-1])\n",
    "            F4[3]=tapetepos[i][j]\n",
    "\n",
    "        if tapetepos[i][j]==6:  \n",
    "            tapetepos4[i][j]=((deltalambda4[4])*DadosVazioKs[\"K6\"]) #N\n",
    "            loc4[4]=([i,j-1])\n",
    "            F4[4]=tapetepos[i][j]\n",
    "            \n",
    "        if tapetepos[i][j]==7:\n",
    "            tapetepos4[i][j]=((deltalambda4[5])*DadosVazioKs[\"K7\"]) #N\n",
    "            loc4[5]=([i,j-1])\n",
    "            F4[5]=tapetepos[i][j]\n",
    "            \n",
    "        if tapetepos[i][j]==8:\n",
    "            tapetepos4[i][j]=(deltalambda4[6])*DadosVazioKs[\"K8\"] #N\n",
    "            loc4[6]=([i,j-1])\n",
    "            F4[6]=tapetepos[i][j]"
   ]
  },
  {
   "cell_type": "code",
   "execution_count": 139,
   "metadata": {},
   "outputs": [],
   "source": [
    "interp_forcas4= griddata(loc4,F4,(xx,yy))"
   ]
  },
  {
   "cell_type": "code",
   "execution_count": 140,
   "metadata": {},
   "outputs": [
    {
     "data": {
      "text/plain": [
       "<matplotlib.colorbar.Colorbar at 0x263f74b28d0>"
      ]
     },
     "execution_count": 140,
     "metadata": {},
     "output_type": "execute_result"
    },
    {
     "data": {
      "image/png": "[encoded data removed]",
      "text/plain": [
       "<Figure size 640x480 with 2 Axes>"
      ]
     },
     "metadata": {},
     "output_type": "display_data"
    }
   ],
   "source": [
    "ig, ax = plt.subplots()\n",
    "\n",
    "im=plt.imshow(interp_forcas4, cmap=\"hot\",interpolation='hanning')\n",
    "\n",
    "plt.colorbar(im)"
   ]
  },
  {
   "cell_type": "code",
   "execution_count": null,
   "metadata": {},
   "outputs": [],
   "source": []
  }
 ],
 "metadata": {
  "kernelspec": {
   "display_name": "MLearning",
   "language": "python",
   "name": "python3"
  },
  "language_info": {
   "codemirror_mode": {
    "name": "ipython",
    "version": 3
   },
   "file_extension": ".py",
   "mimetype": "text/x-python",
   "name": "python",
   "nbconvert_exporter": "python",
   "pygments_lexer": "ipython3",
   "version": "3.11.4"
  },
  "orig_nbformat": 4
 },
 "nbformat": 4,
 "nbformat_minor": 2
}
