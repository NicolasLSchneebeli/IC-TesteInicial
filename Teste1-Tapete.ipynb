{
 "cells": [
  {
   "cell_type": "code",
   "execution_count": 1,
   "metadata": {},
   "outputs": [],
   "source": [
    "import pandas as pd \n",
    "import numpy as np \n",
    "import matplotlib.pyplot as plt\n",
    "from scipy.stats import linregress\n",
    "import seaborn as sns\n",
    "import scipy.signal as sp"
   ]
  },
  {
   "cell_type": "code",
   "execution_count": 2,
   "metadata": {},
   "outputs": [],
   "source": [
    "#Tapete Vazio:\n",
    "vazio=open(\"Teste1/tapete_vazio.txt\",'r')\n",
    "vazio=pd.read_csv(vazio,skiprows=65,names=[\"Timestamp\",\"CH1\",\"CH2\",\"CH3\",\"CH4\",\"CH5\",\"CH6\",\"CH7\",\"CH8\",\"PEAKS1\",\"PEAKS2\",\"PEAKS4\",\"PEAKS5\",\"PEAKS6\",\"PEAKS7\",\"PEAKS8\"], sep=\"\\t\",decimal=',')\n",
    "importante= open(\"DadosImportantes.txt\",\"r\")\n",
    "DadosVazioKs=pd.read_csv(importante,names=[\"Sen1\",\"Sen2\",\"Sen3\",\"Sen5\",\"Sen6\",\"Sen7\",\"Sen8\",\"K1\",\"K2\",\"K3\",\"K5\",\"K6\",\"K7\",\"K8\"],sep=\"\\t\")"
   ]
  },
  {
   "cell_type": "code",
   "execution_count": 3,
   "metadata": {},
   "outputs": [
    {
     "data": {
      "text/html": [
       "<div>\n",
       "<style scoped>\n",
       "    .dataframe tbody tr th:only-of-type {\n",
       "        vertical-align: middle;\n",
       "    }\n",
       "\n",
       "    .dataframe tbody tr th {\n",
       "        vertical-align: top;\n",
       "    }\n",
       "\n",
       "    .dataframe thead th {\n",
       "        text-align: right;\n",
       "    }\n",
       "</style>\n",
       "<table border=\"1\" class=\"dataframe\">\n",
       "  <thead>\n",
       "    <tr style=\"text-align: right;\">\n",
       "      <th></th>\n",
       "      <th>Sen1</th>\n",
       "      <th>Sen2</th>\n",
       "      <th>Sen3</th>\n",
       "      <th>Sen5</th>\n",
       "      <th>Sen6</th>\n",
       "      <th>Sen7</th>\n",
       "      <th>Sen8</th>\n",
       "      <th>K1</th>\n",
       "      <th>K2</th>\n",
       "      <th>K3</th>\n",
       "      <th>K5</th>\n",
       "      <th>K6</th>\n",
       "      <th>K7</th>\n",
       "      <th>K8</th>\n",
       "    </tr>\n",
       "  </thead>\n",
       "  <tbody>\n",
       "    <tr>\n",
       "      <th>0</th>\n",
       "      <td>1524.414522</td>\n",
       "      <td>1552.885792</td>\n",
       "      <td>1545.331807</td>\n",
       "      <td>1553.397719</td>\n",
       "      <td>1553.377358</td>\n",
       "      <td>1553.028255</td>\n",
       "      <td>1524.564848</td>\n",
       "      <td>206.801253</td>\n",
       "      <td>21.89157</td>\n",
       "      <td>52.175564</td>\n",
       "      <td>180.350194</td>\n",
       "      <td>37.27653</td>\n",
       "      <td>30.196699</td>\n",
       "      <td>21.385117</td>\n",
       "    </tr>\n",
       "  </tbody>\n",
       "</table>\n",
       "</div>"
      ],
      "text/plain": [
       "          Sen1         Sen2         Sen3         Sen5         Sen6  \\\n",
       "0  1524.414522  1552.885792  1545.331807  1553.397719  1553.377358   \n",
       "\n",
       "          Sen7         Sen8          K1        K2         K3          K5  \\\n",
       "0  1553.028255  1524.564848  206.801253  21.89157  52.175564  180.350194   \n",
       "\n",
       "         K6         K7         K8  \n",
       "0  37.27653  30.196699  21.385117  "
      ]
     },
     "execution_count": 3,
     "metadata": {},
     "output_type": "execute_result"
    }
   ],
   "source": [
    "DadosVazioKs=np.abs(DadosVazioKs)\n",
    "DadosVazioKs\n"
   ]
  },
  {
   "cell_type": "code",
   "execution_count": 4,
   "metadata": {},
   "outputs": [],
   "source": [
    "vazio[\"PEAKS3\"]=vazio[\"PEAKS4\"]\n",
    "vazio=vazio.drop([\"PEAKS4\"],axis=1)"
   ]
  },
  {
   "cell_type": "code",
   "execution_count": 5,
   "metadata": {},
   "outputs": [
    {
     "data": {
      "text/plain": [
       "[1524.2978987123302,\n",
       " 1552.8543605303328,\n",
       " 1545.3048749497732,\n",
       " 1553.0471529308645,\n",
       " 1553.3657170080755,\n",
       " 1552.9766794248571,\n",
       " 1524.5347669844396]"
      ]
     },
     "execution_count": 5,
     "metadata": {},
     "output_type": "execute_result"
    }
   ],
   "source": [
    "picos_vazios=vazio.loc[:,[\"PEAKS1\",'PEAKS2','PEAKS3','PEAKS5',\"PEAKS6\",'PEAKS7','PEAKS8']]\n",
    "medias=[]\n",
    "for i in range (0, 7):\n",
    "    medias.append(picos_vazios.mean()[i])\n",
    "medias  "
   ]
  },
  {
   "cell_type": "code",
   "execution_count": 6,
   "metadata": {},
   "outputs": [],
   "source": [
    "dFCpos1=pd.read_csv(open(\"Teste1/Cimento/N0.2023.05.11.15.55.14(Pos1).txt\",\"r\"),skiprows=65,names=[\"Timestamp\",\"CH1\",\"CH2\",\"CH3\",\"CH4\",\"CH5\",\"CH6\",\"CH7\",\"CH8\",\"PEAKS1\",\"PEAKS2\",\"PEAKS4\",\"PEAKS5\",\"PEAKS6\",\"PEAKS7\",\"PEAKS8\"], sep=\"\\t\", decimal=\",\")"
   ]
  },
  {
   "cell_type": "code",
   "execution_count": 12,
   "metadata": {},
   "outputs": [],
   "source": [
    "#Criando a malha do tapete \n",
    "\n",
    "y= np.linspace(0,282,282)    \n",
    "x=np.linspace(0,420,420)\n",
    "\n",
    "#forças\n",
    "tapetepos=np.zeros((len(x),len(y)))\n",
    "\n",
    "\n",
    "sensor1=1\n",
    "sensor2=2\n",
    "sensor3=3\n",
    "sensor4=4\n",
    "sensor5=5\n",
    "sensor6=6\n",
    "sensor7=7\n",
    "sensor8=8\n",
    "\n",
    "\n",
    "#TAPETEPOS[X][Y]!!\n",
    "tapetepos[int(2*len(x)/3)-1][int(len(y)/2)-1]=sensor1\n",
    "tapetepos[int(len(x)/3)-1][int(len(y)/2)-1]=sensor2\n",
    "tapetepos[int(len(x)/3)-1][int(len(y)/2)-1]=sensor3\n",
    "\n",
    "tapetepos[3*int(len(x)/4)-1][2*int(len(y)/3)-1]=sensor5\n",
    "tapetepos[int(len(x)/3)-1][int(len(y)/2)-1]=sensor6\n",
    "tapetepos[int(len(x)/3)-1][int(len(y)/2)-1]=sensor7\n",
    "tapetepos[int(len(x)/3)-1][int(len(y)/2)-1]=sensor8\n"
   ]
  },
  {
   "cell_type": "code",
   "execution_count": 8,
   "metadata": {},
   "outputs": [],
   "source": [
    "\n",
    "# tapetepos[int(1*len(y)/4)][int(2*len())]\n",
    "\n"
   ]
  }
 ],
 "metadata": {
  "kernelspec": {
   "display_name": "MLearning",
   "language": "python",
   "name": "python3"
  },
  "language_info": {
   "codemirror_mode": {
    "name": "ipython",
    "version": 3
   },
   "file_extension": ".py",
   "mimetype": "text/x-python",
   "name": "python",
   "nbconvert_exporter": "python",
   "pygments_lexer": "ipython3",
   "version": "3.11.4"
  },
  "orig_nbformat": 4
 },
 "nbformat": 4,
 "nbformat_minor": 2
}
