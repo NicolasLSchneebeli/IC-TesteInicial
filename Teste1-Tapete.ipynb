{
 "cells": [
  {
   "attachments": {},
   "cell_type": "markdown",
   "metadata": {},
   "source": [
    "# Teste 1 realizado por Nicolas Lovatte Schneebeli "
   ]
  },
  {
   "cell_type": "code",
   "execution_count": 2,
   "metadata": {},
   "outputs": [],
   "source": [
    "import pandas as pd \n",
    "import numpy as np \n",
    "import matplotlib.pyplot as plt\n",
    "from scipy.stats import linregress\n",
    "import seaborn as sns\n",
    "import scipy.signal as sp\n",
    "from scipy.interpolate import griddata"
   ]
  },
  {
   "cell_type": "code",
   "execution_count": 3,
   "metadata": {},
   "outputs": [],
   "source": [
    "#Tapete Vazio:\n",
    "vazio=open(\"Teste1/tapete_vazio.txt\",'r')\n",
    "vazio=pd.read_csv(vazio,skiprows=65,names=[\"Timestamp\",\"CH1\",\"CH2\",\"CH3\",\"CH4\",\"CH5\",\"CH6\",\"CH7\",\"CH8\",\"PEAKS1\",\"PEAKS2\",\"PEAKS4\",\"PEAKS5\",\"PEAKS6\",\"PEAKS7\",\"PEAKS8\"], sep=\"\\t\",decimal=',')\n",
    "importante= open(\"DadosImportantes.txt\",\"r\")\n",
    "DadosVazioKs=pd.read_csv(importante,names=[\"Sen1\",\"Sen2\",\"Sen3\",\"Sen5\",\"Sen6\",\"Sen7\",\"Sen8\",\"K1\",\"K2\",\"K3\",\"K5\",\"K6\",\"K7\",\"K8\"],sep=\"\\t\")"
   ]
  },
  {
   "cell_type": "code",
   "execution_count": 4,
   "metadata": {},
   "outputs": [],
   "source": [
    "vazio[\"PEAKS3\"]=vazio[\"PEAKS4\"]\n",
    "vazio=vazio.drop([\"PEAKS4\"],axis=1)\n"
   ]
  },
  {
   "cell_type": "code",
   "execution_count": 5,
   "metadata": {},
   "outputs": [],
   "source": [
    "picos_vazios=vazio.loc[:,[\"PEAKS1\",'PEAKS2','PEAKS3','PEAKS5',\"PEAKS6\",'PEAKS7','PEAKS8']]\n",
    "medias=[]\n",
    "for i in range (0, 7):\n",
    "    medias.append(picos_vazios.mean()[i])\n"
   ]
  },
  {
   "cell_type": "code",
   "execution_count": 6,
   "metadata": {},
   "outputs": [],
   "source": [
    "#Criando a malha do tapete \n",
    "\n",
    "y= np.linspace(0,282,282)    \n",
    "x=np.linspace(0,420,420)\n",
    "\n",
    "#forças\n",
    "tapetepos=np.zeros((len(x),len(y)))\n",
    "\n",
    "xx,yy= np.meshgrid(x,y)"
   ]
  },
  {
   "cell_type": "code",
   "execution_count": 7,
   "metadata": {},
   "outputs": [],
   "source": [
    "\n",
    "sensor1=1\n",
    "sensor2=2\n",
    "sensor3=3\n",
    "sensor4=4\n",
    "sensor5=5\n",
    "sensor6=6\n",
    "sensor7=7\n",
    "sensor8=8\n",
    "\n",
    "\n",
    "#TAPETEPOS[X][Y]!!\n",
    "tapetepos[int(2*len(x)/3)-1][int(len(y)/2)-1]=sensor1\n",
    "tapetepos[int(len(x)/3)-1][int(len(y)/2)-1]=sensor2\n",
    "\n",
    "tapetepos[int(3*len(x)/4)-1][int(2*len(y)/3)-1]=sensor3\n",
    "tapetepos[int(len(x)/4)-1][2*int(len(y)/3)-1]=sensor5\n",
    "\n",
    "tapetepos[int(len(x)/2)-1][int(len(y)/3)-1]=sensor6\n",
    "tapetepos[int(len(x)/4)-1][int(len(y)/3)-1]=sensor7\n",
    "tapetepos[int(3*len(x)/4)-1][int(len(y)/3)-1]=sensor8\n",
    "\n"
   ]
  },
  {
   "attachments": {},
   "cell_type": "markdown",
   "metadata": {},
   "source": [
    "# Cimento: 4 Posições\n"
   ]
  },
  {
   "cell_type": "code",
   "execution_count": 8,
   "metadata": {},
   "outputs": [],
   "source": [
    "cimentopos1=pd.read_csv(open(\"Teste1/Cimento/N0.2023.05.11.15.55.14(Pos1).txt\",\"r\"),skiprows=65,names=[\"Timestamp\",\"CH1\",\"CH2\",\"CH3\",\"CH4\",\"CH5\",\"CH6\",\"CH7\",\"CH8\",\"PEAKS1\",\"PEAKS2\",\"PEAKS3\",\"PEAKS5\",\"PEAKS6\",\"PEAKS7\",\"PEAKS8\"], sep=\"\\t\", decimal=\",\")\n",
    "cimentopos2=pd.read_csv(open(\"Teste1/Cimento/N0.2023.05.11.15.56.01(Pos2).txt\",\"r\"),skiprows=65,names=[\"Timestamp\",\"CH1\",\"CH2\",\"CH3\",\"CH4\",\"CH5\",\"CH6\",\"CH7\",\"CH8\",\"PEAKS1\",\"PEAKS2\",\"PEAKS3\",\"PEAKS5\",\"PEAKS6\",\"PEAKS7\",\"PEAKS8\"], sep=\"\\t\", decimal=\",\")\n",
    "cimentopos3=pd.read_csv(open(\"Teste1/Cimento/N0.2023.05.11.15.58.04(Pos3).txt\",\"r\"),skiprows=65,names=[\"Timestamp\",\"CH1\",\"CH2\",\"CH3\",\"CH4\",\"CH5\",\"CH6\",\"CH7\",\"CH8\",\"PEAKS1\",\"PEAKS2\",\"PEAKS3\",\"PEAKS5\",\"PEAKS6\",\"PEAKS7\",\"PEAKS8\"], sep=\"\\t\", decimal=\",\")\n",
    "cimentopos4=pd.read_csv(open(\"Teste1/Cimento/N0.2023.05.11.15.58.47(Pos4).txt\",\"r\"),skiprows=65,names=[\"Timestamp\",\"CH1\",\"CH2\",\"CH3\",\"CH4\",\"CH5\",\"CH6\",\"CH7\",\"CH8\",\"PEAKS1\",\"PEAKS2\",\"PEAKS3\",\"PEAKS5\",\"PEAKS6\",\"PEAKS7\",\"PEAKS8\"], sep=\"\\t\", decimal=\",\")\n",
    "\n",
    "\n",
    "\n"
   ]
  },
  {
   "attachments": {},
   "cell_type": "markdown",
   "metadata": {},
   "source": [
    "## $\\Delta \\lambda $ POS1"
   ]
  },
  {
   "cell_type": "code",
   "execution_count": 9,
   "metadata": {},
   "outputs": [
    {
     "data": {
      "text/plain": [
       "array([-1.31375606e-03, -9.74886345e-05, -1.77336424e-03,  3.37475137e-05,\n",
       "        9.65767296e-04,  1.24139272e-03,  4.03811458e-03])"
      ]
     },
     "execution_count": 9,
     "metadata": {},
     "output_type": "execute_result"
    }
   ],
   "source": [
    "deltalambda1=np.zeros(7)\n",
    "\n",
    "deltalambda1[0]= medias[0] - cimentopos1['PEAKS1'].mean()\n",
    "deltalambda1[1]= vazio['PEAKS2'].mean() - cimentopos1['PEAKS2'].mean()\n",
    "deltalambda1[2]= vazio['PEAKS3'].mean() - cimentopos1['PEAKS3'].mean()\n",
    "\n",
    "deltalambda1[3]= vazio['PEAKS5'].mean() - cimentopos1['PEAKS5'].mean()\n",
    "deltalambda1[4]= vazio['PEAKS6'].mean() - cimentopos1['PEAKS6'].mean()\n",
    "deltalambda1[5]= vazio['PEAKS7'].mean() - cimentopos1['PEAKS7'].mean()\n",
    "deltalambda1[6]= vazio['PEAKS8'].mean() - cimentopos1['PEAKS8'].mean()\n",
    "\n",
    "deltalambda1\n"
   ]
  },
  {
   "attachments": {},
   "cell_type": "markdown",
   "metadata": {},
   "source": [
    "## $\\Delta \\lambda $ POS2\n"
   ]
  },
  {
   "cell_type": "code",
   "execution_count": 10,
   "metadata": {},
   "outputs": [
    {
     "data": {
      "text/plain": [
       "array([-0.00475469, -0.00028859, -0.00052266,  0.00015232, -0.03186296,\n",
       "        0.00213507, -0.00310378])"
      ]
     },
     "execution_count": 10,
     "metadata": {},
     "output_type": "execute_result"
    }
   ],
   "source": [
    "deltalambda2=np.zeros(7)\n",
    "\n",
    "deltalambda2[0]= vazio['PEAKS1'].mean() - cimentopos2['PEAKS1'].mean()\n",
    "deltalambda2[1]= vazio['PEAKS2'].mean() - cimentopos2['PEAKS2'].mean()\n",
    "deltalambda2[2]= vazio['PEAKS3'].mean() - cimentopos2['PEAKS3'].mean()\n",
    "\n",
    "deltalambda2[3]= vazio['PEAKS5'].mean() - cimentopos2['PEAKS5'].mean()\n",
    "deltalambda2[4]= vazio['PEAKS6'].mean() - cimentopos2['PEAKS6'].mean()\n",
    "deltalambda2[5]= vazio['PEAKS7'].mean() - cimentopos2['PEAKS7'].mean()\n",
    "deltalambda2[6]= vazio['PEAKS8'].mean() - cimentopos2['PEAKS8'].mean()\n",
    "\n",
    "deltalambda2"
   ]
  },
  {
   "attachments": {},
   "cell_type": "markdown",
   "metadata": {},
   "source": [
    "## $\\Delta \\lambda $ POS3 "
   ]
  },
  {
   "cell_type": "code",
   "execution_count": 11,
   "metadata": {},
   "outputs": [
    {
     "data": {
      "text/plain": [
       "array([-6.63585244e-03, -2.47785780e-03,  6.73969316e-06, -1.19046386e-03,\n",
       "        2.02319898e-04, -8.36481879e-04,  3.06053696e-03])"
      ]
     },
     "execution_count": 11,
     "metadata": {},
     "output_type": "execute_result"
    }
   ],
   "source": [
    "deltalambda3=np.zeros(7)\n",
    "\n",
    "deltalambda3[0]= vazio['PEAKS1'].mean() - cimentopos3['PEAKS1'].mean()\n",
    "deltalambda3[1]= vazio['PEAKS2'].mean() - cimentopos3['PEAKS2'].mean()\n",
    "deltalambda3[2]= vazio['PEAKS3'].mean() - cimentopos3['PEAKS3'].mean()\n",
    "\n",
    "deltalambda3[3]= vazio['PEAKS5'].mean() - cimentopos3['PEAKS5'].mean()\n",
    "deltalambda3[4]= vazio['PEAKS6'].mean() - cimentopos3['PEAKS6'].mean()\n",
    "deltalambda3[5]= vazio['PEAKS7'].mean() - cimentopos3['PEAKS7'].mean()\n",
    "deltalambda3[6]= vazio['PEAKS8'].mean() - cimentopos3['PEAKS8'].mean()\n",
    "\n",
    "deltalambda3"
   ]
  },
  {
   "attachments": {},
   "cell_type": "markdown",
   "metadata": {},
   "source": [
    "## $\\Delta \\lambda $ POS4"
   ]
  },
  {
   "cell_type": "code",
   "execution_count": 12,
   "metadata": {},
   "outputs": [
    {
     "data": {
      "text/plain": [
       "array([-0.00292399,  0.00530865, -0.00344069, -0.00084899, -0.00106978,\n",
       "       -0.05625242,  0.00275723])"
      ]
     },
     "execution_count": 12,
     "metadata": {},
     "output_type": "execute_result"
    }
   ],
   "source": [
    "deltalambda4=np.zeros(7)\n",
    "\n",
    "deltalambda4[0]= vazio['PEAKS1'].mean() - cimentopos4['PEAKS1'].mean()\n",
    "deltalambda4[1]= vazio['PEAKS2'].mean() - cimentopos4['PEAKS2'].mean()\n",
    "deltalambda4[2]= vazio['PEAKS3'].mean() - cimentopos4['PEAKS3'].mean()\n",
    "\n",
    "deltalambda4[3]= vazio['PEAKS5'].mean() - cimentopos4['PEAKS5'].mean()\n",
    "deltalambda4[4]= vazio['PEAKS6'].mean() - cimentopos4['PEAKS6'].mean()\n",
    "deltalambda4[5]= vazio['PEAKS7'].mean() - cimentopos4['PEAKS7'].mean()\n",
    "deltalambda4[6]= vazio['PEAKS8'].mean() - cimentopos4['PEAKS8'].mean()\n",
    "\n",
    "deltalambda4"
   ]
  },
  {
   "attachments": {},
   "cell_type": "markdown",
   "metadata": {},
   "source": [
    "## Heatmap POS1 "
   ]
  },
  {
   "cell_type": "code",
   "execution_count": 13,
   "metadata": {},
   "outputs": [],
   "source": [
    "loc1=np.zeros((7,2))\n",
    "F1=np.zeros(7)\n",
    "tapetepos1=tapetepos.copy()\n",
    "xx1,yy1= np.meshgrid(x,y)\n"
   ]
  },
  {
   "cell_type": "code",
   "execution_count": 14,
   "metadata": {},
   "outputs": [],
   "source": [
    "\n",
    "for i in range (0,tapetepos.shape[0]):\n",
    "    for j in range (0,tapetepos.shape[1]):\n",
    "        if tapetepos[i][j]==1:\n",
    "            tapetepos1[i][j]=(deltalambda1[0])*DadosVazioKs[\"K1\"]#N\n",
    "            loc1[0]=([i,j-1])\n",
    "            F1[0]=tapetepos1[i][j]\n",
    "            \n",
    "        if tapetepos[i][j]==2:\n",
    "            tapetepos1[i][j]=(deltalambda1[1])*DadosVazioKs[\"K2\"] #N\n",
    "            loc1[1]=([i,j])\n",
    "            F1[1]=tapetepos1[i][j]\n",
    "\n",
    "        if tapetepos[i][j]==3:\n",
    "            tapetepos1[i][j]=(deltalambda1[2])*DadosVazioKs[\"K3\"] #N\n",
    "            loc1[2]=([i,j-1])\n",
    "            F1[2]=tapetepos1[i][j]\n",
    "\n",
    "        if tapetepos[i][j]==5:\n",
    "            tapetepos1[i][j]=((deltalambda1[3])*DadosVazioKs[\"K5\"]) #N\n",
    "            loc1[3]=([i,j-1])\n",
    "            F1[3]=tapetepos1[i][j]\n",
    "\n",
    "        if tapetepos[i][j]==6:  \n",
    "            tapetepos1[i][j]=((deltalambda1[4])*DadosVazioKs[\"K6\"]) #N\n",
    "            loc1[4]=([i,j-1])\n",
    "            F1[4]=tapetepos1[i][j]\n",
    "            \n",
    "        if tapetepos[i][j]==7:\n",
    "            tapetepos1[i][j]=((deltalambda1[5])*DadosVazioKs[\"K7\"]) #N\n",
    "            loc1[5]=([i,j-1])\n",
    "            F1[5]=tapetepos1[i][j]\n",
    "            \n",
    "        if tapetepos[i][j]==8:\n",
    "            tapetepos1[i][j]=(deltalambda1[6])*DadosVazioKs[\"K8\"] #N\n",
    "            loc1[6]=([i,j-1])\n",
    "            F1[6]=tapetepos1[i][j]"
   ]
  },
  {
   "cell_type": "code",
   "execution_count": 16,
   "metadata": {},
   "outputs": [],
   "source": [
    "interp_forcas1= griddata(loc1,F1,(xx1,yy1))"
   ]
  },
  {
   "cell_type": "code",
   "execution_count": 17,
   "metadata": {},
   "outputs": [
    {
     "data": {
      "text/plain": [
       "<matplotlib.colorbar.Colorbar at 0x1ac0dbfc150>"
      ]
     },
     "execution_count": 17,
     "metadata": {},
     "output_type": "execute_result"
    },
    {
     "data": {
      "image/png": "[encoded data removed]",
      "text/plain": [
       "<Figure size 640x480 with 2 Axes>"
      ]
     },
     "metadata": {},
     "output_type": "display_data"
    }
   ],
   "source": [
    "# fig, ax = plt.subplots()\n",
    "\n",
    "im1=plt.imshow(interp_forcas1, cmap=\"hot\")\n",
    "\n",
    "plt.colorbar(im1)"
   ]
  },
  {
   "attachments": {},
   "cell_type": "markdown",
   "metadata": {},
   "source": [
    "## Heatmap POS2 \n"
   ]
  },
  {
   "cell_type": "code",
   "execution_count": 18,
   "metadata": {},
   "outputs": [],
   "source": [
    "loc2=loc1\n",
    "F2=np.zeros(7)"
   ]
  },
  {
   "cell_type": "code",
   "execution_count": 19,
   "metadata": {},
   "outputs": [],
   "source": [
    "tapetepos2= tapetepos.copy()\n",
    "for i in range (0,tapetepos.shape[0]):\n",
    "    for j in range (0,tapetepos.shape[1]):\n",
    "        if tapetepos[i][j]==1:\n",
    "            tapetepos2[i][j]=(deltalambda2[0])*DadosVazioKs[\"K1\"]#N\n",
    "            loc2[0]=([i,j-1])\n",
    "            F2[0]=tapetepos2[i][j]\n",
    "            \n",
    "        if tapetepos[i][j]==2:\n",
    "            tapetepos2[i][j]=(deltalambda2[1])*DadosVazioKs[\"K2\"] #N\n",
    "            loc2[1]=([i,j])\n",
    "            F2[1]=tapetepos2[i][j]\n",
    "\n",
    "        if tapetepos[i][j]==3:\n",
    "            tapetepos2[i][j]=(deltalambda2[2])*DadosVazioKs[\"K3\"] #N\n",
    "            loc2[2]=([i,j-1])\n",
    "            F2[2]=tapetepos2[i][j]\n",
    "            \n",
    "        if tapetepos[i][j]==5:\n",
    "            tapetepos2[i][j]=((deltalambda2[3])*DadosVazioKs[\"K5\"]) #N\n",
    "            loc2[3]=([i,j-1])\n",
    "            F2[3]=tapetepos2[i][j]\n",
    "            \n",
    "        if tapetepos[i][j]==6:  \n",
    "            tapetepos2[i][j]=((deltalambda2[4])*DadosVazioKs[\"K6\"]) #N\n",
    "            loc2[4]=([i,j-1])\n",
    "            F2[4]=tapetepos2[i][j]\n",
    "            \n",
    "        if tapetepos[i][j]==7:\n",
    "            tapetepos2[i][j]=((deltalambda2[5])*DadosVazioKs[\"K7\"]) #N\n",
    "            loc2[5]=([i,j-1])\n",
    "            F2[5]=tapetepos2[i][j]\n",
    "            \n",
    "        if tapetepos[i][j]==8:\n",
    "            tapetepos2[i][j]=(deltalambda2[6])*DadosVazioKs[\"K8\"] #N\n",
    "            loc2[6]=([i,j-1])\n",
    "            F2[6]=tapetepos2[i][j]"
   ]
  },
  {
   "cell_type": "code",
   "execution_count": 20,
   "metadata": {},
   "outputs": [],
   "source": [
    "interp_forcas2= griddata(loc2,F2,(xx,yy))"
   ]
  },
  {
   "cell_type": "code",
   "execution_count": 21,
   "metadata": {},
   "outputs": [
    {
     "data": {
      "text/plain": [
       "<matplotlib.colorbar.Colorbar at 0x1ac8020c150>"
      ]
     },
     "execution_count": 21,
     "metadata": {},
     "output_type": "execute_result"
    },
    {
     "data": {
      "image/png": "[encoded data removed]",
      "text/plain": [
       "<Figure size 640x480 with 2 Axes>"
      ]
     },
     "metadata": {},
     "output_type": "display_data"
    }
   ],
   "source": [
    "ig, ax = plt.subplots()\n",
    "\n",
    "im2=plt.imshow(interp_forcas2, cmap=\"hot\",interpolation='hanning')\n",
    "\n",
    "plt.colorbar(im2)"
   ]
  },
  {
   "attachments": {},
   "cell_type": "markdown",
   "metadata": {},
   "source": [
    "## Heatmap POS3 "
   ]
  },
  {
   "cell_type": "code",
   "execution_count": 22,
   "metadata": {},
   "outputs": [],
   "source": [
    "loc3=loc1\n",
    "F3=np.zeros(7)"
   ]
  },
  {
   "cell_type": "code",
   "execution_count": 23,
   "metadata": {},
   "outputs": [],
   "source": [
    "tapetepos3= tapetepos.copy()\n",
    "for i in range (0,tapetepos.shape[0]):\n",
    "    for j in range (0,tapetepos.shape[1]):\n",
    "        if tapetepos[i][j]==1:\n",
    "            tapetepos3[i][j]=(deltalambda3[0])*DadosVazioKs[\"K1\"]#N\n",
    "            loc3[0]=([i,j-1])\n",
    "            F3[0]=tapetepos3[i][j]\n",
    "            \n",
    "        if tapetepos[i][j]==2:\n",
    "            tapetepos3[i][j]=(deltalambda3[1])*DadosVazioKs[\"K2\"] #N\n",
    "            loc3[1]=([i,j])\n",
    "            F3[1]=tapetepos3[i][j]\n",
    "\n",
    "        if tapetepos[i][j]==3:\n",
    "            tapetepos3[i][j]=(deltalambda3[2])*DadosVazioKs[\"K3\"] #N\n",
    "            loc3[2]=([i,j-1])\n",
    "            F3[2]=tapetepos3[i][j]\n",
    "\n",
    "        if tapetepos[i][j]==5:\n",
    "            tapetepos3[i][j]=((deltalambda3[3])*DadosVazioKs[\"K5\"]) #N\n",
    "            loc3[3]=([i,j-1])\n",
    "            F3[3]=tapetepos3[i][j]\n",
    "\n",
    "        if tapetepos[i][j]==6:  \n",
    "            tapetepos3[i][j]=((deltalambda3[4])*DadosVazioKs[\"K6\"]) #N\n",
    "            loc3[4]=([i,j-1])\n",
    "            F3[4]=tapetepos3[i][j]\n",
    "            \n",
    "        if tapetepos[i][j]==7:\n",
    "            tapetepos3[i][j]=((deltalambda3[5])*DadosVazioKs[\"K7\"]) #N\n",
    "            loc3[5]=([i,j-1])\n",
    "            F3[5]=tapetepos3[i][j]\n",
    "            \n",
    "        if tapetepos[i][j]==8:\n",
    "            tapetepos3[i][j]=(deltalambda3[6])*DadosVazioKs[\"K8\"] #N\n",
    "            loc3[6]=([i,j-1])\n",
    "            F3[6]=tapetepos3[i][j]"
   ]
  },
  {
   "cell_type": "code",
   "execution_count": 24,
   "metadata": {},
   "outputs": [],
   "source": [
    "interp_forcas3= griddata(loc3,F3,(xx,yy))"
   ]
  },
  {
   "cell_type": "code",
   "execution_count": 25,
   "metadata": {},
   "outputs": [
    {
     "data": {
      "text/plain": [
       "<matplotlib.colorbar.Colorbar at 0x1ac802e9d50>"
      ]
     },
     "execution_count": 25,
     "metadata": {},
     "output_type": "execute_result"
    },
    {
     "data": {
      "image/png": "[encoded data removed]",
      "text/plain": [
       "<Figure size 640x480 with 2 Axes>"
      ]
     },
     "metadata": {},
     "output_type": "display_data"
    }
   ],
   "source": [
    "ig, ax = plt.subplots()\n",
    "\n",
    "im=plt.imshow(interp_forcas3, cmap=\"hot\",interpolation='hanning')\n",
    "\n",
    "plt.colorbar(im)"
   ]
  },
  {
   "attachments": {},
   "cell_type": "markdown",
   "metadata": {},
   "source": [
    "## Heatmap POS4"
   ]
  },
  {
   "cell_type": "code",
   "execution_count": 26,
   "metadata": {},
   "outputs": [],
   "source": [
    "loc4=loc1\n",
    "F4=np.zeros(7)"
   ]
  },
  {
   "cell_type": "code",
   "execution_count": 27,
   "metadata": {},
   "outputs": [],
   "source": [
    "tapetepos4= tapetepos.copy()\n",
    "for i in range (0,tapetepos.shape[0]):\n",
    "    for j in range (0,tapetepos.shape[1]):\n",
    "        if tapetepos[i][j]==1:\n",
    "            tapetepos4[i][j]=(deltalambda4[0])*DadosVazioKs[\"K1\"]#N\n",
    "            loc4[0]=([i,j-1])\n",
    "            F4[0]=tapetepos4[i][j]\n",
    "            \n",
    "        if tapetepos[i][j]==2:\n",
    "            tapetepos4[i][j]=(deltalambda4[1])*DadosVazioKs[\"K2\"] #N\n",
    "            loc4[1]=([i,j])\n",
    "            F4[1]=tapetepos4[i][j]\n",
    "\n",
    "        if tapetepos[i][j]==3:\n",
    "            tapetepos4[i][j]=(deltalambda4[2])*DadosVazioKs[\"K3\"] #N\n",
    "            loc4[2]=([i,j-1])\n",
    "            F4[2]=tapetepos4[i][j]\n",
    "            \n",
    "        if tapetepos[i][j]==5:\n",
    "            tapetepos4[i][j]=((deltalambda4[3])*DadosVazioKs[\"K5\"]) #N\n",
    "            loc4[3]=([i,j-1])\n",
    "            F4[3]=tapetepos4[i][j]\n",
    "\n",
    "        if tapetepos[i][j]==6:  \n",
    "            tapetepos4[i][j]=((deltalambda4[4])*DadosVazioKs[\"K6\"]) #N\n",
    "            loc4[4]=([i,j-1])\n",
    "            F4[4]=tapetepos4[i][j]\n",
    "            \n",
    "        if tapetepos[i][j]==7:\n",
    "            tapetepos4[i][j]=((deltalambda4[5])*DadosVazioKs[\"K7\"]) #N\n",
    "            loc4[5]=([i,j-1])\n",
    "            F4[5]=tapetepos4[i][j]\n",
    "            \n",
    "        if tapetepos[i][j]==8:\n",
    "            tapetepos4[i][j]=(deltalambda4[6])*DadosVazioKs[\"K8\"] #N\n",
    "            loc4[6]=([i,j-1])\n",
    "            F4[6]=tapetepos4[i][j]"
   ]
  },
  {
   "cell_type": "code",
   "execution_count": 28,
   "metadata": {},
   "outputs": [],
   "source": [
    "interp_forcas4= griddata(loc4,F4,(xx,yy))"
   ]
  },
  {
   "cell_type": "code",
   "execution_count": 29,
   "metadata": {},
   "outputs": [
    {
     "data": {
      "text/plain": [
       "<matplotlib.colorbar.Colorbar at 0x1ac803d9d50>"
      ]
     },
     "execution_count": 29,
     "metadata": {},
     "output_type": "execute_result"
    },
    {
     "data": {
      "image/png": "[encoded data removed]",
      "text/plain": [
       "<Figure size 640x480 with 2 Axes>"
      ]
     },
     "metadata": {},
     "output_type": "display_data"
    }
   ],
   "source": [
    "ig, ax = plt.subplots()\n",
    "\n",
    "im=plt.imshow(interp_forcas4, cmap=\"hot\",interpolation='hanning')\n",
    "\n",
    "plt.colorbar(im)"
   ]
  },
  {
   "attachments": {},
   "cell_type": "markdown",
   "metadata": {},
   "source": [
    "# Béquer Vazio: 4 Posições"
   ]
  },
  {
   "cell_type": "code",
   "execution_count": 30,
   "metadata": {},
   "outputs": [],
   "source": [
    "BequerVaziopos1=pd.read_csv(open(\"Teste1/Béquer Vazio/N0.2023.05.11.16.00.35(Pos1).txt\",\"r\"),skiprows=65,names=[\"Timestamp\",\"CH1\",\"CH2\",\"CH3\",\"CH4\",\"CH5\",\"CH6\",\"CH7\",\"CH8\",\"PEAKS1\",\"PEAKS2\",\"PEAKS3\",\"PEAKS5\",\"PEAKS6\",\"PEAKS7\",\"PEAKS8\"], sep=\"\\t\", decimal=\",\")\n",
    "BequerVaziopos2=pd.read_csv(open(\"Teste1/Béquer Vazio/N0.2023.05.11.16.01.12(Pos2).txt\",\"r\"),skiprows=65,names=[\"Timestamp\",\"CH1\",\"CH2\",\"CH3\",\"CH4\",\"CH5\",\"CH6\",\"CH7\",\"CH8\",\"PEAKS1\",\"PEAKS2\",\"PEAKS3\",\"PEAKS5\",\"PEAKS6\",\"PEAKS7\",\"PEAKS8\"], sep=\"\\t\", decimal=\",\")\n",
    "BequerVaziopos3=pd.read_csv(open(\"Teste1/Béquer Vazio/N0.2023.05.11.16.02.09(Pos3).txt\",\"r\"),skiprows=65,names=[\"Timestamp\",\"CH1\",\"CH2\",\"CH3\",\"CH4\",\"CH5\",\"CH6\",\"CH7\",\"CH8\",\"PEAKS1\",\"PEAKS2\",\"PEAKS3\",\"PEAKS5\",\"PEAKS6\",\"PEAKS7\",\"PEAKS8\"], sep=\"\\t\", decimal=\",\")\n",
    "BequerVaziopos4=pd.read_csv(open(\"Teste1/Béquer Vazio/N0.2023.05.11.16.03.24(Pos4).txt\",\"r\"),skiprows=65,names=[\"Timestamp\",\"CH1\",\"CH2\",\"CH3\",\"CH4\",\"CH5\",\"CH6\",\"CH7\",\"CH8\",\"PEAKS1\",\"PEAKS2\",\"PEAKS3\",\"PEAKS5\",\"PEAKS6\",\"PEAKS7\",\"PEAKS8\"], sep=\"\\t\", decimal=\",\")\n"
   ]
  },
  {
   "attachments": {},
   "cell_type": "markdown",
   "metadata": {},
   "source": [
    "## $\\Delta \\lambda $ POS1"
   ]
  },
  {
   "cell_type": "code",
   "execution_count": 31,
   "metadata": {},
   "outputs": [],
   "source": [
    "deltalambdaB1=np.zeros(7)\n",
    "\n",
    "deltalambdaB1[0]= medias[0] - BequerVaziopos1['PEAKS1'].mean()\n",
    "deltalambdaB1[1]= medias[1] - BequerVaziopos1['PEAKS2'].mean()\n",
    "deltalambdaB1[2]= medias[2] - BequerVaziopos1['PEAKS3'].mean()\n",
    "\n",
    "deltalambdaB1[3]= medias[3] - BequerVaziopos1['PEAKS5'].mean()\n",
    "deltalambdaB1[4]= medias[4] - BequerVaziopos1['PEAKS6'].mean()\n",
    "deltalambdaB1[5]= medias[5] - BequerVaziopos1['PEAKS7'].mean()\n",
    "deltalambdaB1[6]= medias[6] - BequerVaziopos1['PEAKS8'].mean()"
   ]
  },
  {
   "attachments": {},
   "cell_type": "markdown",
   "metadata": {},
   "source": [
    "## $\\Delta \\lambda $ POS2"
   ]
  },
  {
   "cell_type": "code",
   "execution_count": 32,
   "metadata": {},
   "outputs": [],
   "source": [
    "deltalambdaB2=np.zeros(7)\n",
    "\n",
    "deltalambdaB2[0]= medias[0] - BequerVaziopos2['PEAKS1'].mean()\n",
    "deltalambdaB2[1]= medias[1] - BequerVaziopos2['PEAKS2'].mean()\n",
    "deltalambdaB2[2]= medias[2] - BequerVaziopos2['PEAKS3'].mean()\n",
    "\n",
    "deltalambdaB2[3]= medias[3] - BequerVaziopos2['PEAKS5'].mean()\n",
    "deltalambdaB2[4]= medias[4] - BequerVaziopos2['PEAKS6'].mean()\n",
    "deltalambdaB2[5]= medias[5] - BequerVaziopos2['PEAKS7'].mean()\n",
    "deltalambdaB2[6]= medias[6] - BequerVaziopos2['PEAKS8'].mean()"
   ]
  },
  {
   "attachments": {},
   "cell_type": "markdown",
   "metadata": {},
   "source": [
    "## $\\Delta \\lambda $ POS3"
   ]
  },
  {
   "cell_type": "code",
   "execution_count": 33,
   "metadata": {},
   "outputs": [],
   "source": [
    "deltalambdaB3=np.zeros(7)\n",
    "\n",
    "deltalambdaB3[0]= medias[0] - BequerVaziopos3['PEAKS1'].mean()\n",
    "deltalambdaB3[1]= medias[1] - BequerVaziopos3['PEAKS2'].mean()\n",
    "deltalambdaB3[2]= medias[2] - BequerVaziopos3['PEAKS3'].mean()\n",
    "\n",
    "deltalambdaB3[3]= medias[3] - BequerVaziopos3['PEAKS5'].mean()\n",
    "deltalambdaB3[4]= medias[4] - BequerVaziopos3['PEAKS6'].mean()\n",
    "deltalambdaB3[5]= medias[5] - BequerVaziopos3['PEAKS7'].mean()\n",
    "deltalambdaB3[6]= medias[6] - BequerVaziopos3['PEAKS8'].mean()"
   ]
  },
  {
   "attachments": {},
   "cell_type": "markdown",
   "metadata": {},
   "source": [
    "## $\\Delta \\lambda $ POS4"
   ]
  },
  {
   "cell_type": "code",
   "execution_count": 34,
   "metadata": {},
   "outputs": [],
   "source": [
    "deltalambdaB4=np.zeros(7)\n",
    "\n",
    "deltalambdaB4[0]= medias[0] - BequerVaziopos4['PEAKS1'].mean()\n",
    "deltalambdaB4[1]= medias[1] - BequerVaziopos4['PEAKS2'].mean()\n",
    "deltalambdaB4[2]= medias[2] - BequerVaziopos4['PEAKS3'].mean()\n",
    "\n",
    "deltalambdaB4[3]= medias[3] - BequerVaziopos4['PEAKS5'].mean()\n",
    "deltalambdaB4[4]= medias[4] - BequerVaziopos4['PEAKS6'].mean()\n",
    "deltalambdaB4[5]= medias[5] - BequerVaziopos4['PEAKS7'].mean()\n",
    "deltalambdaB4[6]= medias[6] - BequerVaziopos4['PEAKS8'].mean()"
   ]
  },
  {
   "attachments": {},
   "cell_type": "markdown",
   "metadata": {},
   "source": [
    "## Heatmap POS1 "
   ]
  },
  {
   "cell_type": "code",
   "execution_count": 35,
   "metadata": {},
   "outputs": [],
   "source": [
    "locB1=np.zeros((7,2))\n",
    "FB1=np.zeros(7)\n",
    "tapeteposB1=tapetepos.copy()\n"
   ]
  },
  {
   "cell_type": "code",
   "execution_count": 36,
   "metadata": {},
   "outputs": [],
   "source": [
    "\n",
    "for i in range (0,tapetepos.shape[0]):\n",
    "    for j in range (0,tapetepos.shape[1]):\n",
    "        if tapetepos[i][j]==1:\n",
    "            tapeteposB1[i][j]=(deltalambdaB1[0])*DadosVazioKs[\"K1\"]#N\n",
    "            locB1[0]=([i,j-1])\n",
    "            FB1[0]=tapeteposB1[i][j]\n",
    "            \n",
    "        if tapetepos[i][j]==2:\n",
    "            tapeteposB1[i][j]=(deltalambdaB1[1])*DadosVazioKs[\"K2\"] #N\n",
    "            locB1[1]=([i,j])\n",
    "            FB1[1]=tapeteposB1[i][j]\n",
    "\n",
    "        if tapetepos[i][j]==3:\n",
    "            tapeteposB1[i][j]=(deltalambdaB1[2])*DadosVazioKs[\"K3\"] #N\n",
    "            locB1[2]=([i,j-1])\n",
    "            FB1[2]=tapeteposB1[i][j]\n",
    "\n",
    "        if tapetepos[i][j]==5:\n",
    "            tapeteposB1[i][j]=((deltalambdaB1[3])*DadosVazioKs[\"K5\"]) #N\n",
    "            locB1[3]=([i,j-1])\n",
    "            FB1[3]=tapeteposB1[i][j]\n",
    "\n",
    "        if tapetepos[i][j]==6:  \n",
    "            tapeteposB1[i][j]=((deltalambdaB1[4])*DadosVazioKs[\"K6\"]) #N\n",
    "            locB1[4]=([i,j-1])\n",
    "            FB1[4]=tapeteposB1[i][j]\n",
    "            \n",
    "        if tapetepos[i][j]==7:\n",
    "            tapeteposB1[i][j]=((deltalambdaB1[5])*DadosVazioKs[\"K7\"]) #N\n",
    "            locB1[5]=([i,j-1])\n",
    "            FB1[5]=tapeteposB1[i][j]\n",
    "            \n",
    "        if tapetepos[i][j]==8:\n",
    "            tapeteposB1[i][j]=(deltalambdaB1[6])*DadosVazioKs[\"K8\"] #N\n",
    "            locB1[6]=([i,j-1])\n",
    "            FB1[6]=tapeteposB1[i][j]"
   ]
  },
  {
   "cell_type": "code",
   "execution_count": 37,
   "metadata": {},
   "outputs": [],
   "source": [
    "interp_forcasB1= griddata(locB1,FB1,(xx,yy))"
   ]
  },
  {
   "cell_type": "code",
   "execution_count": 38,
   "metadata": {},
   "outputs": [
    {
     "data": {
      "text/plain": [
       "Text(0, 0.5, 'x')"
      ]
     },
     "execution_count": 38,
     "metadata": {},
     "output_type": "execute_result"
    },
    {
     "data": {
      "image/png": "[encoded data removed]",
      "text/plain": [
       "<Figure size 640x480 with 2 Axes>"
      ]
     },
     "metadata": {},
     "output_type": "display_data"
    }
   ],
   "source": [
    "# fig, ax = plt.subplots()\n",
    "\n",
    "im1=plt.imshow(interp_forcasB1, cmap=\"hot\")\n",
    "\n",
    "plt.colorbar(im1)\n",
    "plt.xlabel('y')\n",
    "plt.ylabel('x')"
   ]
  },
  {
   "attachments": {},
   "cell_type": "markdown",
   "metadata": {},
   "source": [
    "## Heatmap POS2"
   ]
  },
  {
   "cell_type": "code",
   "execution_count": 39,
   "metadata": {},
   "outputs": [],
   "source": [
    "locB2=np.zeros((7,2))\n",
    "FB2=np.zeros(7)\n",
    "tapeteposB2=tapetepos.copy()"
   ]
  },
  {
   "cell_type": "code",
   "execution_count": 40,
   "metadata": {},
   "outputs": [],
   "source": [
    "for i in range (0,tapetepos.shape[0]):\n",
    "    for j in range (0,tapetepos.shape[1]):\n",
    "        if tapetepos[i][j]==1:\n",
    "            tapeteposB2[i][j]=(deltalambdaB2[0])*DadosVazioKs[\"K1\"]#N\n",
    "            locB2[0]=([i,j-1])\n",
    "            FB2[0]=tapeteposB2[i][j]\n",
    "            \n",
    "        if tapetepos[i][j]==2:\n",
    "            tapeteposB2[i][j]=(deltalambdaB2[1])*DadosVazioKs[\"K2\"] #N\n",
    "            locB2[1]=([i,j])\n",
    "            FB2[1]=tapeteposB2[i][j]\n",
    "\n",
    "        if tapetepos[i][j]==3:\n",
    "            tapeteposB2[i][j]=(deltalambdaB2[2])*DadosVazioKs[\"K3\"] #N\n",
    "            locB2[2]=([i,j-1])\n",
    "            FB2[2]=tapeteposB2[i][j]\n",
    "\n",
    "        if tapetepos[i][j]==5:\n",
    "            tapeteposB2[i][j]=((deltalambdaB2[3])*DadosVazioKs[\"K5\"]) #N\n",
    "            locB2[3]=([i,j-1])\n",
    "            FB2[3]=tapeteposB2[i][j]\n",
    "\n",
    "        if tapetepos[i][j]==6:  \n",
    "            tapeteposB2[i][j]=((deltalambdaB2[4])*DadosVazioKs[\"K6\"]) #N\n",
    "            locB2[4]=([i,j-1])\n",
    "            FB2[4]=tapeteposB2[i][j]\n",
    "            \n",
    "        if tapetepos[i][j]==7:\n",
    "            tapeteposB2[i][j]=((deltalambdaB2[5])*DadosVazioKs[\"K7\"]) #N\n",
    "            locB2[5]=([i,j-1])\n",
    "            FB2[5]=tapeteposB2[i][j]\n",
    "            \n",
    "        if tapetepos[i][j]==8:\n",
    "            tapeteposB2[i][j]=(deltalambdaB2[6])*DadosVazioKs[\"K8\"] #N\n",
    "            locB2[6]=([i,j-1])\n",
    "            FB2[6]=tapeteposB2[i][j]"
   ]
  },
  {
   "cell_type": "code",
   "execution_count": 41,
   "metadata": {},
   "outputs": [
    {
     "data": {
      "text/plain": [
       "Text(0, 0.5, 'x')"
      ]
     },
     "execution_count": 41,
     "metadata": {},
     "output_type": "execute_result"
    },
    {
     "data": {
      "image/png": "[encoded data removed]",
      "text/plain": [
       "<Figure size 640x480 with 2 Axes>"
      ]
     },
     "metadata": {},
     "output_type": "display_data"
    }
   ],
   "source": [
    "interp_forcasB2= griddata(locB2,FB2,(xx,yy))\n",
    "\n",
    "\n",
    "im1=plt.imshow(interp_forcasB2, cmap=\"hot\")\n",
    "\n",
    "plt.colorbar(im1)\n",
    "plt.xlabel('y')\n",
    "plt.ylabel('x')"
   ]
  },
  {
   "attachments": {},
   "cell_type": "markdown",
   "metadata": {},
   "source": [
    "## Heatmap POS3 "
   ]
  },
  {
   "cell_type": "code",
   "execution_count": 42,
   "metadata": {},
   "outputs": [],
   "source": [
    "locB3=np.zeros((7,2))\n",
    "FB3=np.zeros(7)\n",
    "tapeteposB3=tapetepos.copy()"
   ]
  },
  {
   "cell_type": "code",
   "execution_count": 43,
   "metadata": {},
   "outputs": [],
   "source": [
    "for i in range (0,tapetepos.shape[0]):\n",
    "    for j in range (0,tapetepos.shape[1]):\n",
    "        if tapetepos[i][j]==1:\n",
    "            tapeteposB3[i][j]=(deltalambdaB3[0])*DadosVazioKs[\"K1\"]#N\n",
    "            locB3[0]=([i,j-1])\n",
    "            FB3[0]=tapeteposB3[i][j]\n",
    "            \n",
    "        if tapetepos[i][j]==2:\n",
    "            tapeteposB3[i][j]=(deltalambdaB3[1])*DadosVazioKs[\"K2\"] #N\n",
    "            locB3[1]=([i,j])\n",
    "            FB3[1]=tapeteposB3[i][j]\n",
    "\n",
    "        if tapetepos[i][j]==3:\n",
    "            tapeteposB3[i][j]=(deltalambdaB3[2])*DadosVazioKs[\"K3\"] #N\n",
    "            locB3[2]=([i,j-1])\n",
    "            FB3[2]=tapeteposB3[i][j]\n",
    "\n",
    "        if tapetepos[i][j]==5:\n",
    "            tapeteposB3[i][j]=((deltalambdaB3[3])*DadosVazioKs[\"K5\"]) #N\n",
    "            locB3[3]=([i,j-1])\n",
    "            FB3[3]=tapeteposB3[i][j]\n",
    "\n",
    "        if tapetepos[i][j]==6:  \n",
    "            tapeteposB3[i][j]=((deltalambdaB3[4])*DadosVazioKs[\"K6\"]) #N\n",
    "            locB3[4]=([i,j-1])\n",
    "            FB3[4]=tapeteposB3[i][j]\n",
    "            \n",
    "        if tapetepos[i][j]==7:\n",
    "            tapeteposB3[i][j]=((deltalambdaB3[5])*DadosVazioKs[\"K7\"]) #N\n",
    "            locB3[5]=([i,j-1])\n",
    "            FB3[5]=tapeteposB3[i][j]\n",
    "            \n",
    "        if tapetepos[i][j]==8:\n",
    "            tapeteposB3[i][j]=(deltalambdaB3[6])*DadosVazioKs[\"K8\"] #N\n",
    "            locB3[6]=([i,j-1])\n",
    "            FB3[6]=tapeteposB3[i][j]"
   ]
  },
  {
   "cell_type": "code",
   "execution_count": 44,
   "metadata": {},
   "outputs": [
    {
     "data": {
      "text/plain": [
       "Text(0, 0.5, 'y')"
      ]
     },
     "execution_count": 44,
     "metadata": {},
     "output_type": "execute_result"
    },
    {
     "data": {
      "image/png": "[encoded data removed]",
      "text/plain": [
       "<Figure size 640x480 with 2 Axes>"
      ]
     },
     "metadata": {},
     "output_type": "display_data"
    }
   ],
   "source": [
    "interp_forcasB3= griddata(locB3,FB3,(xx,yy))\n",
    "\n",
    "\n",
    "im1=plt.imshow(interp_forcasB3  , cmap=\"hot\")\n",
    "\n",
    "plt.colorbar(im1)\n",
    "plt.xlabel('x')\n",
    "plt.ylabel('y')"
   ]
  },
  {
   "cell_type": "code",
   "execution_count": 45,
   "metadata": {},
   "outputs": [
    {
     "data": {
      "text/plain": [
       "array([[False, False, False, ..., False, False, False],\n",
       "       [False, False, False, ..., False, False, False],\n",
       "       [False, False, False, ..., False, False, False],\n",
       "       ...,\n",
       "       [False, False, False, ..., False, False, False],\n",
       "       [False, False, False, ..., False, False, False],\n",
       "       [False, False, False, ..., False, False, False]])"
      ]
     },
     "execution_count": 45,
     "metadata": {},
     "output_type": "execute_result"
    }
   ],
   "source": [
    "interp_forcasB2 == interp_forcasB3"
   ]
  },
  {
   "attachments": {},
   "cell_type": "markdown",
   "metadata": {},
   "source": [
    "## Heatmap POS4"
   ]
  },
  {
   "cell_type": "code",
   "execution_count": 46,
   "metadata": {},
   "outputs": [],
   "source": [
    "locB4=np.zeros((7,2))\n",
    "FB4=np.zeros(7)\n",
    "tapeteposB4=tapetepos.copy()"
   ]
  },
  {
   "cell_type": "code",
   "execution_count": 47,
   "metadata": {},
   "outputs": [],
   "source": [
    "for i in range (0,tapetepos.shape[0]):\n",
    "    for j in range (0,tapetepos.shape[1]):\n",
    "        if tapetepos[i][j]==1:\n",
    "            tapeteposB4[i][j]=(deltalambdaB4[0])*DadosVazioKs[\"K1\"]#N\n",
    "            locB4[0]=([i,j-1])\n",
    "            FB4[0]=tapeteposB4[i][j]\n",
    "            \n",
    "        if tapetepos[i][j]==2:\n",
    "            tapeteposB4[i][j]=(deltalambdaB4[1])*DadosVazioKs[\"K2\"] #N\n",
    "            locB4[1]=([i,j])\n",
    "            FB4[1]=tapeteposB4[i][j]\n",
    "\n",
    "        if tapetepos[i][j]==3:\n",
    "            tapeteposB4[i][j]=(deltalambdaB4[2])*DadosVazioKs[\"K3\"] #N\n",
    "            locB4[2]=([i,j-1])\n",
    "            FB4[2]=tapeteposB4[i][j]\n",
    "\n",
    "        if tapetepos[i][j]==5:\n",
    "            tapeteposB4[i][j]=((deltalambdaB4[3])*DadosVazioKs[\"K5\"]) #N\n",
    "            locB4[3]=([i,j-1])\n",
    "            FB4[3]=tapeteposB4[i][j]\n",
    "\n",
    "        if tapetepos[i][j]==6:  \n",
    "            tapeteposB4[i][j]=((deltalambdaB4[4])*DadosVazioKs[\"K6\"]) #N\n",
    "            locB4[4]=([i,j-1])\n",
    "            FB4[4]=tapeteposB4[i][j]\n",
    "            \n",
    "        if tapetepos[i][j]==7:\n",
    "            tapeteposB4[i][j]=((deltalambdaB4[5])*DadosVazioKs[\"K7\"]) #N\n",
    "            locB4[5]=([i,j-1])\n",
    "            FB4[5]=tapeteposB4[i][j]\n",
    "            \n",
    "        if tapetepos[i][j]==8:\n",
    "            tapeteposB4[i][j]=(deltalambdaB4[6])*DadosVazioKs[\"K8\"] #N\n",
    "            locB4[6]=([i,j-1])\n",
    "            FB4[6]=tapeteposB4[i][j]"
   ]
  },
  {
   "cell_type": "code",
   "execution_count": 48,
   "metadata": {},
   "outputs": [
    {
     "data": {
      "text/plain": [
       "Text(0, 0.5, 'y')"
      ]
     },
     "execution_count": 48,
     "metadata": {},
     "output_type": "execute_result"
    },
    {
     "data": {
      "image/png": "[encoded data removed]",
      "text/plain": [
       "<Figure size 640x480 with 2 Axes>"
      ]
     },
     "metadata": {},
     "output_type": "display_data"
    }
   ],
   "source": [
    "interp_forcasB4= griddata(locB4,FB4,(xx,yy))\n",
    "\n",
    "\n",
    "im1=plt.imshow(interp_forcasB4 , cmap=\"hot\")\n",
    "\n",
    "plt.colorbar(im1)\n",
    "plt.xlabel('x')\n",
    "plt.ylabel('y')"
   ]
  },
  {
   "attachments": {},
   "cell_type": "markdown",
   "metadata": {},
   "source": [
    "# Béquer 500 mL\n"
   ]
  },
  {
   "cell_type": "code",
   "execution_count": 49,
   "metadata": {},
   "outputs": [],
   "source": [
    "Bequer500pos1=pd.read_csv(open(\"Teste1/Béquer 500mL/N0.2023.05.11.16.09.54(Pos1).txt\",\"r\"),skiprows=65,names=[\"Timestamp\",\"CH1\",\"CH2\",\"CH3\",\"CH4\",\"CH5\",\"CH6\",\"CH7\",\"CH8\",\"PEAKS1\",\"PEAKS2\",\"PEAKS3\",\"PEAKS5\",\"PEAKS6\",\"PEAKS7\",\"PEAKS8\"], sep=\"\\t\", decimal=\",\")\n",
    "Bequer500pos2=pd.read_csv(open(\"Teste1/Béquer 500mL/N0.2023.05.11.16.10.54(Pos2).txt\",\"r\"),skiprows=65,names=[\"Timestamp\",\"CH1\",\"CH2\",\"CH3\",\"CH4\",\"CH5\",\"CH6\",\"CH7\",\"CH8\",\"PEAKS1\",\"PEAKS2\",\"PEAKS3\",\"PEAKS5\",\"PEAKS6\",\"PEAKS7\",\"PEAKS8\"], sep=\"\\t\", decimal=\",\")\n",
    "Bequer500pos3=pd.read_csv(open(\"Teste1/Béquer 500mL/N0.2023.05.11.16.11.52(Pos3).txt\",\"r\"),skiprows=65,names=[\"Timestamp\",\"CH1\",\"CH2\",\"CH3\",\"CH4\",\"CH5\",\"CH6\",\"CH7\",\"CH8\",\"PEAKS1\",\"PEAKS2\",\"PEAKS3\",\"PEAKS5\",\"PEAKS6\",\"PEAKS7\",\"PEAKS8\"], sep=\"\\t\", decimal=\",\")\n",
    "Bequer500pos4=pd.read_csv(open(\"Teste1/Béquer 500mL/N0.2023.05.11.16.13.20(Pos4).txt\",\"r\"),skiprows=65,names=[\"Timestamp\",\"CH1\",\"CH2\",\"CH3\",\"CH4\",\"CH5\",\"CH6\",\"CH7\",\"CH8\",\"PEAKS1\",\"PEAKS2\",\"PEAKS3\",\"PEAKS5\",\"PEAKS6\",\"PEAKS7\",\"PEAKS8\"], sep=\"\\t\", decimal=\",\")\n"
   ]
  },
  {
   "attachments": {},
   "cell_type": "markdown",
   "metadata": {},
   "source": [
    "## $\\Delta \\lambda$ POS1"
   ]
  },
  {
   "cell_type": "code",
   "execution_count": 53,
   "metadata": {},
   "outputs": [],
   "source": [
    "deltalambdaC1=np.zeros(7)\n",
    "\n",
    "deltalambdaC1[0]= medias[0] - Bequer500pos1['PEAKS1'].mean()\n",
    "deltalambdaC1[1]= medias[1] - Bequer500pos1['PEAKS2'].mean()\n",
    "deltalambdaC1[2]= medias[2] - Bequer500pos1['PEAKS3'].mean()\n",
    "\n",
    "deltalambdaC1[3]= medias[3] - Bequer500pos1['PEAKS5'].mean()\n",
    "deltalambdaC1[4]= medias[4] - Bequer500pos1['PEAKS6'].mean()\n",
    "deltalambdaC1[5]= medias[5] - Bequer500pos1['PEAKS7'].mean()\n",
    "deltalambdaC1[6]= medias[6] - Bequer500pos1['PEAKS8'].mean()"
   ]
  },
  {
   "attachments": {},
   "cell_type": "markdown",
   "metadata": {},
   "source": [
    "## $\\Delta \\lambda $ POS2"
   ]
  },
  {
   "cell_type": "code",
   "execution_count": 54,
   "metadata": {},
   "outputs": [],
   "source": [
    "deltalambdaC2=np.zeros(7)\n",
    "\n",
    "deltalambdaC2[0]= medias[0] - Bequer500pos2['PEAKS1'].mean()\n",
    "deltalambdaC2[1]= medias[1] - Bequer500pos2['PEAKS2'].mean()\n",
    "deltalambdaC2[2]= medias[2] - Bequer500pos2['PEAKS3'].mean()\n",
    "\n",
    "deltalambdaC2[3]= medias[3] - Bequer500pos2['PEAKS5'].mean()\n",
    "deltalambdaC2[4]= medias[4] - Bequer500pos2['PEAKS6'].mean()\n",
    "deltalambdaC2[5]= medias[5] - Bequer500pos2['PEAKS7'].mean()\n",
    "deltalambdaC2[6]= medias[6] - Bequer500pos2['PEAKS8'].mean()"
   ]
  },
  {
   "attachments": {},
   "cell_type": "markdown",
   "metadata": {},
   "source": [
    "## $\\Delta \\lambda $ POS3"
   ]
  },
  {
   "cell_type": "code",
   "execution_count": 69,
   "metadata": {},
   "outputs": [],
   "source": [
    "deltalambdaC3=np.zeros(7)\n",
    "\n",
    "deltalambdaC3[0]= medias[0] - Bequer500pos3['PEAKS1'].mean()\n",
    "deltalambdaC3[1]= medias[1] - Bequer500pos3['PEAKS2'].mean()\n",
    "deltalambdaC3[2]= medias[2] - Bequer500pos3['PEAKS3'].mean()\n",
    "\n",
    "deltalambdaC3[3]= medias[3] - Bequer500pos3['PEAKS5'].mean()\n",
    "deltalambdaC3[4]= medias[4] - Bequer500pos3['PEAKS6'].mean()\n",
    "deltalambdaC3[5]= medias[5] - Bequer500pos3['PEAKS7'].mean()\n",
    "deltalambdaC3[6]= medias[6] - Bequer500pos3['PEAKS8'].mean()"
   ]
  },
  {
   "attachments": {},
   "cell_type": "markdown",
   "metadata": {},
   "source": [
    "## $\\Delta \\lambda $ POS4"
   ]
  },
  {
   "cell_type": "code",
   "execution_count": 71,
   "metadata": {},
   "outputs": [],
   "source": [
    "deltalambdaC4=np.zeros(7)\n",
    "\n",
    "deltalambdaC4[0]= medias[0] - Bequer500pos4['PEAKS1'].mean()\n",
    "deltalambdaC4[1]= medias[1] - Bequer500pos4['PEAKS2'].mean()\n",
    "deltalambdaC4[2]= medias[2] - Bequer500pos4['PEAKS3'].mean()\n",
    "\n",
    "deltalambdaC4[4]= medias[4] - Bequer500pos4['PEAKS5'].mean()\n",
    "deltalambdaC4[4]= medias[4] - Bequer500pos4['PEAKS6'].mean()\n",
    "deltalambdaC4[5]= medias[5] - Bequer500pos4['PEAKS7'].mean()\n",
    "deltalambdaC4[6]= medias[6] - Bequer500pos4['PEAKS8'].mean()"
   ]
  },
  {
   "attachments": {},
   "cell_type": "markdown",
   "metadata": {},
   "source": [
    "## Heatmap POS1 "
   ]
  },
  {
   "cell_type": "code",
   "execution_count": 55,
   "metadata": {},
   "outputs": [],
   "source": [
    "locC1=np.zeros((7,2))\n",
    "FC1=np.zeros(7)\n",
    "tapeteposC1=tapetepos.copy()"
   ]
  },
  {
   "cell_type": "code",
   "execution_count": 56,
   "metadata": {},
   "outputs": [],
   "source": [
    "\n",
    "for i in range (0,tapetepos.shape[0]):\n",
    "    for j in range (0,tapetepos.shape[1]):\n",
    "        if tapetepos[i][j]==1:\n",
    "            tapeteposC1[i][j]=(deltalambdaC1[0])*DadosVazioKs[\"K1\"]#N\n",
    "            locC1[0]=([i,j-1])\n",
    "            FC1[0]=tapeteposC1[i][j]\n",
    "            \n",
    "        if tapetepos[i][j]==2:\n",
    "            tapeteposC1[i][j]=(deltalambdaC1[1])*DadosVazioKs[\"K2\"] #N\n",
    "            locC1[1]=([i,j])\n",
    "            FC1[1]=tapeteposC1[i][j]\n",
    "\n",
    "        if tapetepos[i][j]==3:\n",
    "            tapeteposC1[i][j]=(deltalambdaC1[2])*DadosVazioKs[\"K3\"] #N\n",
    "            locC1[2]=([i,j-1])\n",
    "            FC1[2]=tapeteposC1[i][j]\n",
    "\n",
    "        if tapetepos[i][j]==5:\n",
    "            tapeteposC1[i][j]=((deltalambdaC1[3])*DadosVazioKs[\"K5\"]) #N\n",
    "            locC1[3]=([i,j-1])\n",
    "            FC1[3]=tapeteposC1[i][j]\n",
    "\n",
    "        if tapetepos[i][j]==6:  \n",
    "            tapeteposC1[i][j]=((deltalambdaC1[4])*DadosVazioKs[\"K6\"]) #N\n",
    "            locC1[4]=([i,j-1])\n",
    "            FC1[4]=tapeteposC1[i][j]\n",
    "            \n",
    "        if tapetepos[i][j]==7:\n",
    "            tapeteposC1[i][j]=((deltalambdaC1[5])*DadosVazioKs[\"K7\"]) #N\n",
    "            locC1[5]=([i,j-1])\n",
    "            FC1[5]=tapeteposC1[i][j]\n",
    "            \n",
    "        if tapetepos[i][j]==8:\n",
    "            tapeteposC1[i][j]=(deltalambdaC1[6])*DadosVazioKs[\"K8\"] #N\n",
    "            locC1[6]=([i,j-1])\n",
    "            FC1[6]=tapeteposC1[i][j]"
   ]
  },
  {
   "cell_type": "code",
   "execution_count": 58,
   "metadata": {},
   "outputs": [
    {
     "data": {
      "text/plain": [
       "Text(0, 0.5, 'y')"
      ]
     },
     "execution_count": 58,
     "metadata": {},
     "output_type": "execute_result"
    },
    {
     "data": {
      "image/png": "[encoded data removed]",
      "text/plain": [
       "<Figure size 640x480 with 2 Axes>"
      ]
     },
     "metadata": {},
     "output_type": "display_data"
    }
   ],
   "source": [
    "interp_forcasC1= griddata(locC1,FC1,(xx,yy))\n",
    "\n",
    "\n",
    "im1=plt.imshow(interp_forcasC1 , cmap=\"hot\")\n",
    "\n",
    "plt.colorbar(im1)\n",
    "plt.xlabel('x')\n",
    "plt.ylabel('y')"
   ]
  },
  {
   "attachments": {},
   "cell_type": "markdown",
   "metadata": {},
   "source": [
    "## Heatmap POS2"
   ]
  },
  {
   "cell_type": "code",
   "execution_count": 63,
   "metadata": {},
   "outputs": [],
   "source": [
    "locC2=np.zeros((7,2))\n",
    "FC2=np.zeros(7)\n",
    "tapeteposC2=tapetepos.copy()"
   ]
  },
  {
   "cell_type": "code",
   "execution_count": 64,
   "metadata": {},
   "outputs": [],
   "source": [
    "\n",
    "for i in range (0,tapetepos.shape[0]):\n",
    "    for j in range (0,tapetepos.shape[1]):\n",
    "        if tapetepos[i][j]==1:\n",
    "            tapeteposC2[i][j]=(deltalambdaC2[0])*DadosVazioKs[\"K1\"]#N\n",
    "            locC2[0]=([i,j-1])\n",
    "            FC2[0]=tapeteposC2[i][j]\n",
    "            \n",
    "        if tapetepos[i][j]==2:\n",
    "            tapeteposC2[i][j]=(deltalambdaC2[1])*DadosVazioKs[\"K2\"] #N\n",
    "            locC2[1]=([i,j])\n",
    "            FC2[1]=tapeteposC2[i][j]\n",
    "\n",
    "        if tapetepos[i][j]==3:\n",
    "            tapeteposC2[i][j]=(deltalambdaC2[2])*DadosVazioKs[\"K3\"] #N\n",
    "            locC2[2]=([i,j-1])\n",
    "            FC2[2]=tapeteposC2[i][j]\n",
    "\n",
    "        if tapetepos[i][j]==5:\n",
    "            tapeteposC2[i][j]=((deltalambdaC2[3])*DadosVazioKs[\"K5\"]) #N\n",
    "            locC2[3]=([i,j-1])\n",
    "            FC2[3]=tapeteposC2[i][j]\n",
    "\n",
    "        if tapetepos[i][j]==6:  \n",
    "            tapeteposC2[i][j]=((deltalambdaC2[4])*DadosVazioKs[\"K6\"]) #N\n",
    "            locC2[4]=([i,j-1])\n",
    "            FC2[4]=tapeteposC2[i][j]\n",
    "            \n",
    "        if tapetepos[i][j]==7:\n",
    "            tapeteposC2[i][j]=((deltalambdaC2[5])*DadosVazioKs[\"K7\"]) #N\n",
    "            locC2[5]=([i,j-1])\n",
    "            FC2[5]=tapeteposC2[i][j]\n",
    "            \n",
    "        if tapetepos[i][j]==8:\n",
    "            tapeteposC2[i][j]=(deltalambdaC2[6])*DadosVazioKs[\"K8\"] #N\n",
    "            locC2[6]=([i,j-1])\n",
    "            FC2[6]=tapeteposC2[i][j]"
   ]
  },
  {
   "cell_type": "code",
   "execution_count": 65,
   "metadata": {},
   "outputs": [
    {
     "data": {
      "text/plain": [
       "Text(0, 0.5, 'y')"
      ]
     },
     "execution_count": 65,
     "metadata": {},
     "output_type": "execute_result"
    },
    {
     "data": {
      "image/png": "[encoded data removed]",
      "text/plain": [
       "<Figure size 640x480 with 2 Axes>"
      ]
     },
     "metadata": {},
     "output_type": "display_data"
    }
   ],
   "source": [
    "interp_forcasC2= griddata(locC2,FC2,(xx,yy))\n",
    "\n",
    "\n",
    "im1=plt.imshow(interp_forcasC2 , cmap=\"hot\")\n",
    "\n",
    "plt.colorbar(im1)\n",
    "plt.xlabel('x')\n",
    "plt.ylabel('y')"
   ]
  },
  {
   "attachments": {},
   "cell_type": "markdown",
   "metadata": {},
   "source": [
    "## Heatpmap POS3 "
   ]
  },
  {
   "cell_type": "code",
   "execution_count": 67,
   "metadata": {},
   "outputs": [],
   "source": [
    "locC3=np.zeros((7,2))\n",
    "FC3=np.zeros(7)\n",
    "tapeteposC3=tapetepos.copy()"
   ]
  },
  {
   "cell_type": "code",
   "execution_count": 72,
   "metadata": {},
   "outputs": [],
   "source": [
    "for i in range (0,tapetepos.shape[0]):\n",
    "    for j in range (0,tapetepos.shape[1]):\n",
    "        if tapetepos[i][j]==1:\n",
    "            tapeteposC3[i][j]=(deltalambdaC3[0])*DadosVazioKs[\"K1\"]#N\n",
    "            locC3[0]=([i,j-1])\n",
    "            FC3[0]=tapeteposC3[i][j]\n",
    "            \n",
    "        if tapetepos[i][j]==2:\n",
    "            tapeteposC3[i][j]=(deltalambdaC3[1])*DadosVazioKs[\"K2\"] #N\n",
    "            locC3[1]=([i,j])\n",
    "            FC3[1]=tapeteposC3[i][j]\n",
    "\n",
    "        if tapetepos[i][j]==3:\n",
    "            tapeteposC3[i][j]=(deltalambdaC3[2])*DadosVazioKs[\"K3\"] #N\n",
    "            locC3[2]=([i,j-1])\n",
    "            FC3[2]=tapeteposC3[i][j]\n",
    "\n",
    "        if tapetepos[i][j]==5:\n",
    "            tapeteposC3[i][j]=((deltalambdaC3[3])*DadosVazioKs[\"K5\"]) #N\n",
    "            locC3[3]=([i,j-1])\n",
    "            FC3[3]=tapeteposC3[i][j]\n",
    "\n",
    "        if tapetepos[i][j]==6:  \n",
    "            tapeteposC3[i][j]=((deltalambdaC3[4])*DadosVazioKs[\"K6\"]) #N\n",
    "            locC3[4]=([i,j-1])\n",
    "            FC3[4]=tapeteposC3[i][j]\n",
    "            \n",
    "        if tapetepos[i][j]==7:\n",
    "            tapeteposC3[i][j]=((deltalambdaC3[5])*DadosVazioKs[\"K7\"]) #N\n",
    "            locC3[5]=([i,j-1])\n",
    "            FC3[5]=tapeteposC3[i][j]\n",
    "            \n",
    "        if tapetepos[i][j]==8:\n",
    "            tapeteposC3[i][j]=(deltalambdaC3[6])*DadosVazioKs[\"K8\"] #N\n",
    "            locC3[6]=([i,j-1])\n",
    "            FC3[6]=tapeteposC3[i][j]\n",
    "            \n"
   ]
  },
  {
   "cell_type": "code",
   "execution_count": 73,
   "metadata": {},
   "outputs": [
    {
     "data": {
      "text/plain": [
       "Text(0, 0.5, 'y')"
      ]
     },
     "execution_count": 73,
     "metadata": {},
     "output_type": "execute_result"
    },
    {
     "data": {
      "image/png": "[encoded data removed]",
      "text/plain": [
       "<Figure size 640x480 with 2 Axes>"
      ]
     },
     "metadata": {},
     "output_type": "display_data"
    }
   ],
   "source": [
    "interp_forcasC3= griddata(locC3,FC3,(xx,yy))\n",
    "\n",
    "\n",
    "im1=plt.imshow(interp_forcasC3 , cmap=\"hot\")\n",
    "\n",
    "plt.colorbar(im1)\n",
    "plt.xlabel('x')\n",
    "plt.ylabel('y')"
   ]
  },
  {
   "attachments": {},
   "cell_type": "markdown",
   "metadata": {},
   "source": [
    "# Heatmap POS4"
   ]
  },
  {
   "cell_type": "code",
   "execution_count": 74,
   "metadata": {},
   "outputs": [],
   "source": [
    "locC4=np.zeros((7,2))\n",
    "FC4=np.zeros(7)\n",
    "tapeteposC4=tapetepos.copy()"
   ]
  },
  {
   "cell_type": "code",
   "execution_count": 75,
   "metadata": {},
   "outputs": [],
   "source": [
    "for i in range (0,tapetepos.shape[0]):\n",
    "    for j in range (0,tapetepos.shape[1]):\n",
    "        if tapetepos[i][j]==1:\n",
    "            tapeteposC4[i][j]=(deltalambdaC4[0])*DadosVazioKs[\"K1\"]#N\n",
    "            locC4[0]=([i,j-1])\n",
    "            FC4[0]=tapeteposC4[i][j]\n",
    "            \n",
    "        if tapetepos[i][j]==2:\n",
    "            tapeteposC4[i][j]=(deltalambdaC4[1])*DadosVazioKs[\"K2\"] #N\n",
    "            locC4[1]=([i,j])\n",
    "            FC4[1]=tapeteposC4[i][j]\n",
    "\n",
    "        if tapetepos[i][j]==3:\n",
    "            tapeteposC4[i][j]=(deltalambdaC4[2])*DadosVazioKs[\"K3\"] #N\n",
    "            locC4[2]=([i,j-1])\n",
    "            FC4[2]=tapeteposC4[i][j]\n",
    "\n",
    "        if tapetepos[i][j]==5:\n",
    "            tapeteposC4[i][j]=((deltalambdaC4[3])*DadosVazioKs[\"K5\"]) #N\n",
    "            locC4[3]=([i,j-1])\n",
    "            FC4[3]=tapeteposC4[i][j]\n",
    "\n",
    "        if tapetepos[i][j]==6:  \n",
    "            tapeteposC4[i][j]=((deltalambdaC4[4])*DadosVazioKs[\"K6\"]) #N\n",
    "            locC4[4]=([i,j-1])\n",
    "            FC4[4]=tapeteposC4[i][j]\n",
    "            \n",
    "        if tapetepos[i][j]==7:\n",
    "            tapeteposC4[i][j]=((deltalambdaC4[5])*DadosVazioKs[\"K7\"]) #N\n",
    "            locC4[5]=([i,j-1])\n",
    "            FC4[5]=tapeteposC4[i][j]\n",
    "            \n",
    "        if tapetepos[i][j]==8:\n",
    "            tapeteposC4[i][j]=(deltalambdaC4[6])*DadosVazioKs[\"K8\"] #N\n",
    "            locC4[6]=([i,j-1])\n",
    "            FC4[6]=tapeteposC4[i][j]\n",
    "   "
   ]
  },
  {
   "cell_type": "code",
   "execution_count": 76,
   "metadata": {},
   "outputs": [
    {
     "data": {
      "text/plain": [
       "Text(0, 0.5, 'y')"
      ]
     },
     "execution_count": 76,
     "metadata": {},
     "output_type": "execute_result"
    },
    {
     "data": {
      "image/png": "[encoded data removed]",
      "text/plain": [
       "<Figure size 640x480 with 2 Axes>"
      ]
     },
     "metadata": {},
     "output_type": "display_data"
    }
   ],
   "source": [
    "interp_forcasC4= griddata(locC4,FC4,(xx,yy))\n",
    "\n",
    "\n",
    "im1=plt.imshow(interp_forcasC4 , cmap=\"hot\")\n",
    "\n",
    "plt.colorbar(im1)\n",
    "plt.xlabel('x')\n",
    "plt.ylabel('y')"
   ]
  },
  {
   "attachments": {},
   "cell_type": "markdown",
   "metadata": {},
   "source": [
    "# Bequer cheio: 4 posições"
   ]
  }
 ],
 "metadata": {
  "kernelspec": {
   "display_name": "MLearning",
   "language": "python",
   "name": "python3"
  },
  "language_info": {
   "codemirror_mode": {
    "name": "ipython",
    "version": 3
   },
   "file_extension": ".py",
   "mimetype": "text/x-python",
   "name": "python",
   "nbconvert_exporter": "python",
   "pygments_lexer": "ipython3",
   "version": "3.11.4"
  },
  "orig_nbformat": 4
 },
 "nbformat": 4,
 "nbformat_minor": 2
}
